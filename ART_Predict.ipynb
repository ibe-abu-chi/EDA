{
  "cells": [
    {
      "cell_type": "markdown",
      "metadata": {
        "id": "view-in-github",
        "colab_type": "text"
      },
      "source": [
        "<a href=\"https://colab.research.google.com/github/ibe-abu-chi/python_EDA/blob/master/ART_Predict.ipynb\" target=\"_parent\"><img src=\"https://colab.research.google.com/assets/colab-badge.svg\" alt=\"Open In Colab\"/></a>"
      ]
    },
    {
      "cell_type": "code",
      "execution_count": 84,
      "id": "c7c91adb",
      "metadata": {
        "id": "c7c91adb"
      },
      "outputs": [],
      "source": [
        "#importing all libraries and data needed for this analysis\n",
        "import pandas as pd\n",
        "import numpy as np\n",
        "import seaborn as sns\n",
        "from matplotlib import pyplot as plt\n",
        "from datetime import datetime\n",
        "df = pd.read_excel('Adolescent_Peads_DTG.xlsx')"
      ]
    },
    {
      "cell_type": "code",
      "execution_count": 85,
      "id": "2e7ee46d",
      "metadata": {
        "colab": {
          "base_uri": "https://localhost:8080/"
        },
        "id": "2e7ee46d",
        "outputId": "41f7f08f-4f2d-46ab-c416-69f6ca80aaa8"
      },
      "outputs": [
        {
          "output_type": "execute_result",
          "data": {
            "text/plain": [
              "(6215, 19)"
            ]
          },
          "metadata": {},
          "execution_count": 85
        }
      ],
      "source": [
        "df.shape"
      ]
    },
    {
      "cell_type": "code",
      "source": [
        "df\n"
      ],
      "metadata": {
        "colab": {
          "base_uri": "https://localhost:8080/",
          "height": 835
        },
        "id": "xq2ma5l-eIWz",
        "outputId": "efdb388e-836f-496f-e20c-b46139ebd3ab"
      },
      "id": "xq2ma5l-eIWz",
      "execution_count": 86,
      "outputs": [
        {
          "output_type": "execute_result",
          "data": {
            "text/plain": [
              "            LGA   Datim_Code                FacilityName        PepID Sex  \\\n",
              "0           ADO  RWy8gQx6BBr    Igumale General Hospital   GU-16-0074   M   \n",
              "1           ADO  RWy8gQx6BBr    Igumale General Hospital  GUP-20-0013   M   \n",
              "2           APA  fhd28Wdp5gV    Ugbokpo General Hospital   OK-17-0031   F   \n",
              "3           APA  fhd28Wdp5gV    Ugbokpo General Hospital   OK-21-0026   M   \n",
              "4           APA  fhd28Wdp5gV    Ugbokpo General Hospital  OKP-16-0046   M   \n",
              "...         ...          ...                         ...          ...  ..   \n",
              "6210  VANDEIKYA  fCwe9dV4kjP  Vandeikya General Hospital  VDP-21-0017   M   \n",
              "6211  VANDEIKYA  fCwe9dV4kjP  Vandeikya General Hospital  VDP-21-0018   M   \n",
              "6212  VANDEIKYA  fCwe9dV4kjP  Vandeikya General Hospital  VDP-21-0020   M   \n",
              "6213  VANDEIKYA  fCwe9dV4kjP  Vandeikya General Hospital  VDP-21-0023   M   \n",
              "6214  VANDEIKYA  fCwe9dV4kjP  Vandeikya General Hospital  VDP-22-0001   M   \n",
              "\n",
              "     CurrentARTStatuse ARTStartDate RegimenAtARTStart FirstTLD_Pickup  \\\n",
              "0               Active   2016-04-13       TDF-3TC-EFV     TDF-3TC-DTG   \n",
              "1               Active   2020-10-07     ABC-3TC-LPV/r     ABC-3TC-DTG   \n",
              "2               Active   2013-05-23       AZT-3TC-NVP     TDF-3TC-DTG   \n",
              "3               Active   2021-03-08     ABC-3TC-LPV/r     ABC-3TC-DTG   \n",
              "4               Active   2014-03-27       AZT-3TC-NVP     ABC-3TC-DTG   \n",
              "...                ...          ...               ...             ...   \n",
              "6210            Active   2021-06-17     ABC-3TC-LPV/r     ABC-3TC-DTG   \n",
              "6211            Active   2021-07-13     ABC-3TC-LPV/r     ABC-3TC-DTG   \n",
              "6212            Active   2021-09-02     ABC-3TC-LPV/r     ABC-3TC-DTG   \n",
              "6213            Active   2021-09-27     ABC-3TC-LPV/r     ABC-3TC-DTG   \n",
              "6214            Active   2020-06-27     ABC-3TC-LPV/r     ABC-3TC-DTG   \n",
              "\n",
              "     DateofFirstTLD_Pickup  CurAge_Months  CurAge_Years  VL_30Jun2019  \\\n",
              "0               2019-06-05          234.0            19           NaN   \n",
              "1               2021-12-01           41.0             3           NaN   \n",
              "2               2019-07-16          232.0            19           NaN   \n",
              "3               2021-09-15           87.0             7           NaN   \n",
              "4               2020-07-14          104.0             9           NaN   \n",
              "...                    ...            ...           ...           ...   \n",
              "6210            2021-09-28          114.0             9           NaN   \n",
              "6211            2021-10-06           54.0             4           NaN   \n",
              "6212            2021-12-18           78.0             6           NaN   \n",
              "6213            2022-02-03          114.0             9           NaN   \n",
              "6214            2022-01-10           42.0             3           NaN   \n",
              "\n",
              "      VL_31Dec2019  VL_30Jun2020  VL_31Dec2020  VL_30Jun2021  VL_31Dec2021  \\\n",
              "0              NaN          40.0          40.0          40.0          71.0   \n",
              "1              NaN           NaN           NaN           NaN         390.0   \n",
              "2              NaN       12782.0          20.0          20.0           0.0   \n",
              "3              NaN           NaN           NaN           NaN           NaN   \n",
              "4              NaN        5469.0       49934.0       25786.0       25786.0   \n",
              "...            ...           ...           ...           ...           ...   \n",
              "6210           NaN           NaN           NaN           NaN          39.0   \n",
              "6211           NaN           NaN           NaN           NaN           NaN   \n",
              "6212           NaN           NaN           NaN           NaN           NaN   \n",
              "6213           NaN           NaN           NaN           NaN           NaN   \n",
              "6214           NaN           NaN           NaN           NaN           NaN   \n",
              "\n",
              "      VL_30Jun2022  \n",
              "0             71.0  \n",
              "1            399.0  \n",
              "2              0.0  \n",
              "3              NaN  \n",
              "4           1631.0  \n",
              "...            ...  \n",
              "6210           0.0  \n",
              "6211         644.0  \n",
              "6212           0.0  \n",
              "6213          20.0  \n",
              "6214      282649.0  \n",
              "\n",
              "[6215 rows x 19 columns]"
            ],
            "text/html": [
              "\n",
              "  <div id=\"df-95fa08ba-7f00-4b09-870f-35eedec9ad74\">\n",
              "    <div class=\"colab-df-container\">\n",
              "      <div>\n",
              "<style scoped>\n",
              "    .dataframe tbody tr th:only-of-type {\n",
              "        vertical-align: middle;\n",
              "    }\n",
              "\n",
              "    .dataframe tbody tr th {\n",
              "        vertical-align: top;\n",
              "    }\n",
              "\n",
              "    .dataframe thead th {\n",
              "        text-align: right;\n",
              "    }\n",
              "</style>\n",
              "<table border=\"1\" class=\"dataframe\">\n",
              "  <thead>\n",
              "    <tr style=\"text-align: right;\">\n",
              "      <th></th>\n",
              "      <th>LGA</th>\n",
              "      <th>Datim_Code</th>\n",
              "      <th>FacilityName</th>\n",
              "      <th>PepID</th>\n",
              "      <th>Sex</th>\n",
              "      <th>CurrentARTStatuse</th>\n",
              "      <th>ARTStartDate</th>\n",
              "      <th>RegimenAtARTStart</th>\n",
              "      <th>FirstTLD_Pickup</th>\n",
              "      <th>DateofFirstTLD_Pickup</th>\n",
              "      <th>CurAge_Months</th>\n",
              "      <th>CurAge_Years</th>\n",
              "      <th>VL_30Jun2019</th>\n",
              "      <th>VL_31Dec2019</th>\n",
              "      <th>VL_30Jun2020</th>\n",
              "      <th>VL_31Dec2020</th>\n",
              "      <th>VL_30Jun2021</th>\n",
              "      <th>VL_31Dec2021</th>\n",
              "      <th>VL_30Jun2022</th>\n",
              "    </tr>\n",
              "  </thead>\n",
              "  <tbody>\n",
              "    <tr>\n",
              "      <th>0</th>\n",
              "      <td>ADO</td>\n",
              "      <td>RWy8gQx6BBr</td>\n",
              "      <td>Igumale General Hospital</td>\n",
              "      <td>GU-16-0074</td>\n",
              "      <td>M</td>\n",
              "      <td>Active</td>\n",
              "      <td>2016-04-13</td>\n",
              "      <td>TDF-3TC-EFV</td>\n",
              "      <td>TDF-3TC-DTG</td>\n",
              "      <td>2019-06-05</td>\n",
              "      <td>234.0</td>\n",
              "      <td>19</td>\n",
              "      <td>NaN</td>\n",
              "      <td>NaN</td>\n",
              "      <td>40.0</td>\n",
              "      <td>40.0</td>\n",
              "      <td>40.0</td>\n",
              "      <td>71.0</td>\n",
              "      <td>71.0</td>\n",
              "    </tr>\n",
              "    <tr>\n",
              "      <th>1</th>\n",
              "      <td>ADO</td>\n",
              "      <td>RWy8gQx6BBr</td>\n",
              "      <td>Igumale General Hospital</td>\n",
              "      <td>GUP-20-0013</td>\n",
              "      <td>M</td>\n",
              "      <td>Active</td>\n",
              "      <td>2020-10-07</td>\n",
              "      <td>ABC-3TC-LPV/r</td>\n",
              "      <td>ABC-3TC-DTG</td>\n",
              "      <td>2021-12-01</td>\n",
              "      <td>41.0</td>\n",
              "      <td>3</td>\n",
              "      <td>NaN</td>\n",
              "      <td>NaN</td>\n",
              "      <td>NaN</td>\n",
              "      <td>NaN</td>\n",
              "      <td>NaN</td>\n",
              "      <td>390.0</td>\n",
              "      <td>399.0</td>\n",
              "    </tr>\n",
              "    <tr>\n",
              "      <th>2</th>\n",
              "      <td>APA</td>\n",
              "      <td>fhd28Wdp5gV</td>\n",
              "      <td>Ugbokpo General Hospital</td>\n",
              "      <td>OK-17-0031</td>\n",
              "      <td>F</td>\n",
              "      <td>Active</td>\n",
              "      <td>2013-05-23</td>\n",
              "      <td>AZT-3TC-NVP</td>\n",
              "      <td>TDF-3TC-DTG</td>\n",
              "      <td>2019-07-16</td>\n",
              "      <td>232.0</td>\n",
              "      <td>19</td>\n",
              "      <td>NaN</td>\n",
              "      <td>NaN</td>\n",
              "      <td>12782.0</td>\n",
              "      <td>20.0</td>\n",
              "      <td>20.0</td>\n",
              "      <td>0.0</td>\n",
              "      <td>0.0</td>\n",
              "    </tr>\n",
              "    <tr>\n",
              "      <th>3</th>\n",
              "      <td>APA</td>\n",
              "      <td>fhd28Wdp5gV</td>\n",
              "      <td>Ugbokpo General Hospital</td>\n",
              "      <td>OK-21-0026</td>\n",
              "      <td>M</td>\n",
              "      <td>Active</td>\n",
              "      <td>2021-03-08</td>\n",
              "      <td>ABC-3TC-LPV/r</td>\n",
              "      <td>ABC-3TC-DTG</td>\n",
              "      <td>2021-09-15</td>\n",
              "      <td>87.0</td>\n",
              "      <td>7</td>\n",
              "      <td>NaN</td>\n",
              "      <td>NaN</td>\n",
              "      <td>NaN</td>\n",
              "      <td>NaN</td>\n",
              "      <td>NaN</td>\n",
              "      <td>NaN</td>\n",
              "      <td>NaN</td>\n",
              "    </tr>\n",
              "    <tr>\n",
              "      <th>4</th>\n",
              "      <td>APA</td>\n",
              "      <td>fhd28Wdp5gV</td>\n",
              "      <td>Ugbokpo General Hospital</td>\n",
              "      <td>OKP-16-0046</td>\n",
              "      <td>M</td>\n",
              "      <td>Active</td>\n",
              "      <td>2014-03-27</td>\n",
              "      <td>AZT-3TC-NVP</td>\n",
              "      <td>ABC-3TC-DTG</td>\n",
              "      <td>2020-07-14</td>\n",
              "      <td>104.0</td>\n",
              "      <td>9</td>\n",
              "      <td>NaN</td>\n",
              "      <td>NaN</td>\n",
              "      <td>5469.0</td>\n",
              "      <td>49934.0</td>\n",
              "      <td>25786.0</td>\n",
              "      <td>25786.0</td>\n",
              "      <td>1631.0</td>\n",
              "    </tr>\n",
              "    <tr>\n",
              "      <th>...</th>\n",
              "      <td>...</td>\n",
              "      <td>...</td>\n",
              "      <td>...</td>\n",
              "      <td>...</td>\n",
              "      <td>...</td>\n",
              "      <td>...</td>\n",
              "      <td>...</td>\n",
              "      <td>...</td>\n",
              "      <td>...</td>\n",
              "      <td>...</td>\n",
              "      <td>...</td>\n",
              "      <td>...</td>\n",
              "      <td>...</td>\n",
              "      <td>...</td>\n",
              "      <td>...</td>\n",
              "      <td>...</td>\n",
              "      <td>...</td>\n",
              "      <td>...</td>\n",
              "      <td>...</td>\n",
              "    </tr>\n",
              "    <tr>\n",
              "      <th>6210</th>\n",
              "      <td>VANDEIKYA</td>\n",
              "      <td>fCwe9dV4kjP</td>\n",
              "      <td>Vandeikya General Hospital</td>\n",
              "      <td>VDP-21-0017</td>\n",
              "      <td>M</td>\n",
              "      <td>Active</td>\n",
              "      <td>2021-06-17</td>\n",
              "      <td>ABC-3TC-LPV/r</td>\n",
              "      <td>ABC-3TC-DTG</td>\n",
              "      <td>2021-09-28</td>\n",
              "      <td>114.0</td>\n",
              "      <td>9</td>\n",
              "      <td>NaN</td>\n",
              "      <td>NaN</td>\n",
              "      <td>NaN</td>\n",
              "      <td>NaN</td>\n",
              "      <td>NaN</td>\n",
              "      <td>39.0</td>\n",
              "      <td>0.0</td>\n",
              "    </tr>\n",
              "    <tr>\n",
              "      <th>6211</th>\n",
              "      <td>VANDEIKYA</td>\n",
              "      <td>fCwe9dV4kjP</td>\n",
              "      <td>Vandeikya General Hospital</td>\n",
              "      <td>VDP-21-0018</td>\n",
              "      <td>M</td>\n",
              "      <td>Active</td>\n",
              "      <td>2021-07-13</td>\n",
              "      <td>ABC-3TC-LPV/r</td>\n",
              "      <td>ABC-3TC-DTG</td>\n",
              "      <td>2021-10-06</td>\n",
              "      <td>54.0</td>\n",
              "      <td>4</td>\n",
              "      <td>NaN</td>\n",
              "      <td>NaN</td>\n",
              "      <td>NaN</td>\n",
              "      <td>NaN</td>\n",
              "      <td>NaN</td>\n",
              "      <td>NaN</td>\n",
              "      <td>644.0</td>\n",
              "    </tr>\n",
              "    <tr>\n",
              "      <th>6212</th>\n",
              "      <td>VANDEIKYA</td>\n",
              "      <td>fCwe9dV4kjP</td>\n",
              "      <td>Vandeikya General Hospital</td>\n",
              "      <td>VDP-21-0020</td>\n",
              "      <td>M</td>\n",
              "      <td>Active</td>\n",
              "      <td>2021-09-02</td>\n",
              "      <td>ABC-3TC-LPV/r</td>\n",
              "      <td>ABC-3TC-DTG</td>\n",
              "      <td>2021-12-18</td>\n",
              "      <td>78.0</td>\n",
              "      <td>6</td>\n",
              "      <td>NaN</td>\n",
              "      <td>NaN</td>\n",
              "      <td>NaN</td>\n",
              "      <td>NaN</td>\n",
              "      <td>NaN</td>\n",
              "      <td>NaN</td>\n",
              "      <td>0.0</td>\n",
              "    </tr>\n",
              "    <tr>\n",
              "      <th>6213</th>\n",
              "      <td>VANDEIKYA</td>\n",
              "      <td>fCwe9dV4kjP</td>\n",
              "      <td>Vandeikya General Hospital</td>\n",
              "      <td>VDP-21-0023</td>\n",
              "      <td>M</td>\n",
              "      <td>Active</td>\n",
              "      <td>2021-09-27</td>\n",
              "      <td>ABC-3TC-LPV/r</td>\n",
              "      <td>ABC-3TC-DTG</td>\n",
              "      <td>2022-02-03</td>\n",
              "      <td>114.0</td>\n",
              "      <td>9</td>\n",
              "      <td>NaN</td>\n",
              "      <td>NaN</td>\n",
              "      <td>NaN</td>\n",
              "      <td>NaN</td>\n",
              "      <td>NaN</td>\n",
              "      <td>NaN</td>\n",
              "      <td>20.0</td>\n",
              "    </tr>\n",
              "    <tr>\n",
              "      <th>6214</th>\n",
              "      <td>VANDEIKYA</td>\n",
              "      <td>fCwe9dV4kjP</td>\n",
              "      <td>Vandeikya General Hospital</td>\n",
              "      <td>VDP-22-0001</td>\n",
              "      <td>M</td>\n",
              "      <td>Active</td>\n",
              "      <td>2020-06-27</td>\n",
              "      <td>ABC-3TC-LPV/r</td>\n",
              "      <td>ABC-3TC-DTG</td>\n",
              "      <td>2022-01-10</td>\n",
              "      <td>42.0</td>\n",
              "      <td>3</td>\n",
              "      <td>NaN</td>\n",
              "      <td>NaN</td>\n",
              "      <td>NaN</td>\n",
              "      <td>NaN</td>\n",
              "      <td>NaN</td>\n",
              "      <td>NaN</td>\n",
              "      <td>282649.0</td>\n",
              "    </tr>\n",
              "  </tbody>\n",
              "</table>\n",
              "<p>6215 rows × 19 columns</p>\n",
              "</div>\n",
              "      <button class=\"colab-df-convert\" onclick=\"convertToInteractive('df-95fa08ba-7f00-4b09-870f-35eedec9ad74')\"\n",
              "              title=\"Convert this dataframe to an interactive table.\"\n",
              "              style=\"display:none;\">\n",
              "        \n",
              "  <svg xmlns=\"http://www.w3.org/2000/svg\" height=\"24px\"viewBox=\"0 0 24 24\"\n",
              "       width=\"24px\">\n",
              "    <path d=\"M0 0h24v24H0V0z\" fill=\"none\"/>\n",
              "    <path d=\"M18.56 5.44l.94 2.06.94-2.06 2.06-.94-2.06-.94-.94-2.06-.94 2.06-2.06.94zm-11 1L8.5 8.5l.94-2.06 2.06-.94-2.06-.94L8.5 2.5l-.94 2.06-2.06.94zm10 10l.94 2.06.94-2.06 2.06-.94-2.06-.94-.94-2.06-.94 2.06-2.06.94z\"/><path d=\"M17.41 7.96l-1.37-1.37c-.4-.4-.92-.59-1.43-.59-.52 0-1.04.2-1.43.59L10.3 9.45l-7.72 7.72c-.78.78-.78 2.05 0 2.83L4 21.41c.39.39.9.59 1.41.59.51 0 1.02-.2 1.41-.59l7.78-7.78 2.81-2.81c.8-.78.8-2.07 0-2.86zM5.41 20L4 18.59l7.72-7.72 1.47 1.35L5.41 20z\"/>\n",
              "  </svg>\n",
              "      </button>\n",
              "      \n",
              "  <style>\n",
              "    .colab-df-container {\n",
              "      display:flex;\n",
              "      flex-wrap:wrap;\n",
              "      gap: 12px;\n",
              "    }\n",
              "\n",
              "    .colab-df-convert {\n",
              "      background-color: #E8F0FE;\n",
              "      border: none;\n",
              "      border-radius: 50%;\n",
              "      cursor: pointer;\n",
              "      display: none;\n",
              "      fill: #1967D2;\n",
              "      height: 32px;\n",
              "      padding: 0 0 0 0;\n",
              "      width: 32px;\n",
              "    }\n",
              "\n",
              "    .colab-df-convert:hover {\n",
              "      background-color: #E2EBFA;\n",
              "      box-shadow: 0px 1px 2px rgba(60, 64, 67, 0.3), 0px 1px 3px 1px rgba(60, 64, 67, 0.15);\n",
              "      fill: #174EA6;\n",
              "    }\n",
              "\n",
              "    [theme=dark] .colab-df-convert {\n",
              "      background-color: #3B4455;\n",
              "      fill: #D2E3FC;\n",
              "    }\n",
              "\n",
              "    [theme=dark] .colab-df-convert:hover {\n",
              "      background-color: #434B5C;\n",
              "      box-shadow: 0px 1px 3px 1px rgba(0, 0, 0, 0.15);\n",
              "      filter: drop-shadow(0px 1px 2px rgba(0, 0, 0, 0.3));\n",
              "      fill: #FFFFFF;\n",
              "    }\n",
              "  </style>\n",
              "\n",
              "      <script>\n",
              "        const buttonEl =\n",
              "          document.querySelector('#df-95fa08ba-7f00-4b09-870f-35eedec9ad74 button.colab-df-convert');\n",
              "        buttonEl.style.display =\n",
              "          google.colab.kernel.accessAllowed ? 'block' : 'none';\n",
              "\n",
              "        async function convertToInteractive(key) {\n",
              "          const element = document.querySelector('#df-95fa08ba-7f00-4b09-870f-35eedec9ad74');\n",
              "          const dataTable =\n",
              "            await google.colab.kernel.invokeFunction('convertToInteractive',\n",
              "                                                     [key], {});\n",
              "          if (!dataTable) return;\n",
              "\n",
              "          const docLinkHtml = 'Like what you see? Visit the ' +\n",
              "            '<a target=\"_blank\" href=https://colab.research.google.com/notebooks/data_table.ipynb>data table notebook</a>'\n",
              "            + ' to learn more about interactive tables.';\n",
              "          element.innerHTML = '';\n",
              "          dataTable['output_type'] = 'display_data';\n",
              "          await google.colab.output.renderOutput(dataTable, element);\n",
              "          const docLink = document.createElement('div');\n",
              "          docLink.innerHTML = docLinkHtml;\n",
              "          element.appendChild(docLink);\n",
              "        }\n",
              "      </script>\n",
              "    </div>\n",
              "  </div>\n",
              "  "
            ]
          },
          "metadata": {},
          "execution_count": 86
        }
      ]
    },
    {
      "cell_type": "code",
      "execution_count": 87,
      "id": "d2efecb0",
      "metadata": {
        "id": "d2efecb0"
      },
      "outputs": [],
      "source": [
        "# Delete multiple columns from the dataframe\n",
        "df1 = df.drop(['LGA', 'Datim_Code', 'FacilityName', 'PepID', 'CurrentARTStatuse', 'CurAge_Months', 'RegimenAtARTStart',\t'FirstTLD_Pickup'], axis=1)"
      ]
    },
    {
      "cell_type": "code",
      "source": [
        "df1.fillna(0)"
      ],
      "metadata": {
        "colab": {
          "base_uri": "https://localhost:8080/",
          "height": 468
        },
        "id": "gzoVJ-dliClK",
        "outputId": "e0f38e36-3a34-4d07-c9c8-7a60935440d3"
      },
      "id": "gzoVJ-dliClK",
      "execution_count": 88,
      "outputs": [
        {
          "output_type": "execute_result",
          "data": {
            "text/plain": [
              "     Sex ARTStartDate DateofFirstTLD_Pickup  CurAge_Years  VL_30Jun2019  \\\n",
              "0      M   2016-04-13            2019-06-05            19           0.0   \n",
              "1      M   2020-10-07            2021-12-01             3           0.0   \n",
              "2      F   2013-05-23            2019-07-16            19           0.0   \n",
              "3      M   2021-03-08            2021-09-15             7           0.0   \n",
              "4      M   2014-03-27            2020-07-14             9           0.0   \n",
              "...   ..          ...                   ...           ...           ...   \n",
              "6210   M   2021-06-17            2021-09-28             9           0.0   \n",
              "6211   M   2021-07-13            2021-10-06             4           0.0   \n",
              "6212   M   2021-09-02            2021-12-18             6           0.0   \n",
              "6213   M   2021-09-27            2022-02-03             9           0.0   \n",
              "6214   M   2020-06-27            2022-01-10             3           0.0   \n",
              "\n",
              "      VL_31Dec2019  VL_30Jun2020  VL_31Dec2020  VL_30Jun2021  VL_31Dec2021  \\\n",
              "0              0.0          40.0          40.0          40.0          71.0   \n",
              "1              0.0           0.0           0.0           0.0         390.0   \n",
              "2              0.0       12782.0          20.0          20.0           0.0   \n",
              "3              0.0           0.0           0.0           0.0           0.0   \n",
              "4              0.0        5469.0       49934.0       25786.0       25786.0   \n",
              "...            ...           ...           ...           ...           ...   \n",
              "6210           0.0           0.0           0.0           0.0          39.0   \n",
              "6211           0.0           0.0           0.0           0.0           0.0   \n",
              "6212           0.0           0.0           0.0           0.0           0.0   \n",
              "6213           0.0           0.0           0.0           0.0           0.0   \n",
              "6214           0.0           0.0           0.0           0.0           0.0   \n",
              "\n",
              "      VL_30Jun2022  \n",
              "0             71.0  \n",
              "1            399.0  \n",
              "2              0.0  \n",
              "3              0.0  \n",
              "4           1631.0  \n",
              "...            ...  \n",
              "6210           0.0  \n",
              "6211         644.0  \n",
              "6212           0.0  \n",
              "6213          20.0  \n",
              "6214      282649.0  \n",
              "\n",
              "[6215 rows x 11 columns]"
            ],
            "text/html": [
              "\n",
              "  <div id=\"df-349f70f1-9331-4e47-8f4e-16438e8f14dd\">\n",
              "    <div class=\"colab-df-container\">\n",
              "      <div>\n",
              "<style scoped>\n",
              "    .dataframe tbody tr th:only-of-type {\n",
              "        vertical-align: middle;\n",
              "    }\n",
              "\n",
              "    .dataframe tbody tr th {\n",
              "        vertical-align: top;\n",
              "    }\n",
              "\n",
              "    .dataframe thead th {\n",
              "        text-align: right;\n",
              "    }\n",
              "</style>\n",
              "<table border=\"1\" class=\"dataframe\">\n",
              "  <thead>\n",
              "    <tr style=\"text-align: right;\">\n",
              "      <th></th>\n",
              "      <th>Sex</th>\n",
              "      <th>ARTStartDate</th>\n",
              "      <th>DateofFirstTLD_Pickup</th>\n",
              "      <th>CurAge_Years</th>\n",
              "      <th>VL_30Jun2019</th>\n",
              "      <th>VL_31Dec2019</th>\n",
              "      <th>VL_30Jun2020</th>\n",
              "      <th>VL_31Dec2020</th>\n",
              "      <th>VL_30Jun2021</th>\n",
              "      <th>VL_31Dec2021</th>\n",
              "      <th>VL_30Jun2022</th>\n",
              "    </tr>\n",
              "  </thead>\n",
              "  <tbody>\n",
              "    <tr>\n",
              "      <th>0</th>\n",
              "      <td>M</td>\n",
              "      <td>2016-04-13</td>\n",
              "      <td>2019-06-05</td>\n",
              "      <td>19</td>\n",
              "      <td>0.0</td>\n",
              "      <td>0.0</td>\n",
              "      <td>40.0</td>\n",
              "      <td>40.0</td>\n",
              "      <td>40.0</td>\n",
              "      <td>71.0</td>\n",
              "      <td>71.0</td>\n",
              "    </tr>\n",
              "    <tr>\n",
              "      <th>1</th>\n",
              "      <td>M</td>\n",
              "      <td>2020-10-07</td>\n",
              "      <td>2021-12-01</td>\n",
              "      <td>3</td>\n",
              "      <td>0.0</td>\n",
              "      <td>0.0</td>\n",
              "      <td>0.0</td>\n",
              "      <td>0.0</td>\n",
              "      <td>0.0</td>\n",
              "      <td>390.0</td>\n",
              "      <td>399.0</td>\n",
              "    </tr>\n",
              "    <tr>\n",
              "      <th>2</th>\n",
              "      <td>F</td>\n",
              "      <td>2013-05-23</td>\n",
              "      <td>2019-07-16</td>\n",
              "      <td>19</td>\n",
              "      <td>0.0</td>\n",
              "      <td>0.0</td>\n",
              "      <td>12782.0</td>\n",
              "      <td>20.0</td>\n",
              "      <td>20.0</td>\n",
              "      <td>0.0</td>\n",
              "      <td>0.0</td>\n",
              "    </tr>\n",
              "    <tr>\n",
              "      <th>3</th>\n",
              "      <td>M</td>\n",
              "      <td>2021-03-08</td>\n",
              "      <td>2021-09-15</td>\n",
              "      <td>7</td>\n",
              "      <td>0.0</td>\n",
              "      <td>0.0</td>\n",
              "      <td>0.0</td>\n",
              "      <td>0.0</td>\n",
              "      <td>0.0</td>\n",
              "      <td>0.0</td>\n",
              "      <td>0.0</td>\n",
              "    </tr>\n",
              "    <tr>\n",
              "      <th>4</th>\n",
              "      <td>M</td>\n",
              "      <td>2014-03-27</td>\n",
              "      <td>2020-07-14</td>\n",
              "      <td>9</td>\n",
              "      <td>0.0</td>\n",
              "      <td>0.0</td>\n",
              "      <td>5469.0</td>\n",
              "      <td>49934.0</td>\n",
              "      <td>25786.0</td>\n",
              "      <td>25786.0</td>\n",
              "      <td>1631.0</td>\n",
              "    </tr>\n",
              "    <tr>\n",
              "      <th>...</th>\n",
              "      <td>...</td>\n",
              "      <td>...</td>\n",
              "      <td>...</td>\n",
              "      <td>...</td>\n",
              "      <td>...</td>\n",
              "      <td>...</td>\n",
              "      <td>...</td>\n",
              "      <td>...</td>\n",
              "      <td>...</td>\n",
              "      <td>...</td>\n",
              "      <td>...</td>\n",
              "    </tr>\n",
              "    <tr>\n",
              "      <th>6210</th>\n",
              "      <td>M</td>\n",
              "      <td>2021-06-17</td>\n",
              "      <td>2021-09-28</td>\n",
              "      <td>9</td>\n",
              "      <td>0.0</td>\n",
              "      <td>0.0</td>\n",
              "      <td>0.0</td>\n",
              "      <td>0.0</td>\n",
              "      <td>0.0</td>\n",
              "      <td>39.0</td>\n",
              "      <td>0.0</td>\n",
              "    </tr>\n",
              "    <tr>\n",
              "      <th>6211</th>\n",
              "      <td>M</td>\n",
              "      <td>2021-07-13</td>\n",
              "      <td>2021-10-06</td>\n",
              "      <td>4</td>\n",
              "      <td>0.0</td>\n",
              "      <td>0.0</td>\n",
              "      <td>0.0</td>\n",
              "      <td>0.0</td>\n",
              "      <td>0.0</td>\n",
              "      <td>0.0</td>\n",
              "      <td>644.0</td>\n",
              "    </tr>\n",
              "    <tr>\n",
              "      <th>6212</th>\n",
              "      <td>M</td>\n",
              "      <td>2021-09-02</td>\n",
              "      <td>2021-12-18</td>\n",
              "      <td>6</td>\n",
              "      <td>0.0</td>\n",
              "      <td>0.0</td>\n",
              "      <td>0.0</td>\n",
              "      <td>0.0</td>\n",
              "      <td>0.0</td>\n",
              "      <td>0.0</td>\n",
              "      <td>0.0</td>\n",
              "    </tr>\n",
              "    <tr>\n",
              "      <th>6213</th>\n",
              "      <td>M</td>\n",
              "      <td>2021-09-27</td>\n",
              "      <td>2022-02-03</td>\n",
              "      <td>9</td>\n",
              "      <td>0.0</td>\n",
              "      <td>0.0</td>\n",
              "      <td>0.0</td>\n",
              "      <td>0.0</td>\n",
              "      <td>0.0</td>\n",
              "      <td>0.0</td>\n",
              "      <td>20.0</td>\n",
              "    </tr>\n",
              "    <tr>\n",
              "      <th>6214</th>\n",
              "      <td>M</td>\n",
              "      <td>2020-06-27</td>\n",
              "      <td>2022-01-10</td>\n",
              "      <td>3</td>\n",
              "      <td>0.0</td>\n",
              "      <td>0.0</td>\n",
              "      <td>0.0</td>\n",
              "      <td>0.0</td>\n",
              "      <td>0.0</td>\n",
              "      <td>0.0</td>\n",
              "      <td>282649.0</td>\n",
              "    </tr>\n",
              "  </tbody>\n",
              "</table>\n",
              "<p>6215 rows × 11 columns</p>\n",
              "</div>\n",
              "      <button class=\"colab-df-convert\" onclick=\"convertToInteractive('df-349f70f1-9331-4e47-8f4e-16438e8f14dd')\"\n",
              "              title=\"Convert this dataframe to an interactive table.\"\n",
              "              style=\"display:none;\">\n",
              "        \n",
              "  <svg xmlns=\"http://www.w3.org/2000/svg\" height=\"24px\"viewBox=\"0 0 24 24\"\n",
              "       width=\"24px\">\n",
              "    <path d=\"M0 0h24v24H0V0z\" fill=\"none\"/>\n",
              "    <path d=\"M18.56 5.44l.94 2.06.94-2.06 2.06-.94-2.06-.94-.94-2.06-.94 2.06-2.06.94zm-11 1L8.5 8.5l.94-2.06 2.06-.94-2.06-.94L8.5 2.5l-.94 2.06-2.06.94zm10 10l.94 2.06.94-2.06 2.06-.94-2.06-.94-.94-2.06-.94 2.06-2.06.94z\"/><path d=\"M17.41 7.96l-1.37-1.37c-.4-.4-.92-.59-1.43-.59-.52 0-1.04.2-1.43.59L10.3 9.45l-7.72 7.72c-.78.78-.78 2.05 0 2.83L4 21.41c.39.39.9.59 1.41.59.51 0 1.02-.2 1.41-.59l7.78-7.78 2.81-2.81c.8-.78.8-2.07 0-2.86zM5.41 20L4 18.59l7.72-7.72 1.47 1.35L5.41 20z\"/>\n",
              "  </svg>\n",
              "      </button>\n",
              "      \n",
              "  <style>\n",
              "    .colab-df-container {\n",
              "      display:flex;\n",
              "      flex-wrap:wrap;\n",
              "      gap: 12px;\n",
              "    }\n",
              "\n",
              "    .colab-df-convert {\n",
              "      background-color: #E8F0FE;\n",
              "      border: none;\n",
              "      border-radius: 50%;\n",
              "      cursor: pointer;\n",
              "      display: none;\n",
              "      fill: #1967D2;\n",
              "      height: 32px;\n",
              "      padding: 0 0 0 0;\n",
              "      width: 32px;\n",
              "    }\n",
              "\n",
              "    .colab-df-convert:hover {\n",
              "      background-color: #E2EBFA;\n",
              "      box-shadow: 0px 1px 2px rgba(60, 64, 67, 0.3), 0px 1px 3px 1px rgba(60, 64, 67, 0.15);\n",
              "      fill: #174EA6;\n",
              "    }\n",
              "\n",
              "    [theme=dark] .colab-df-convert {\n",
              "      background-color: #3B4455;\n",
              "      fill: #D2E3FC;\n",
              "    }\n",
              "\n",
              "    [theme=dark] .colab-df-convert:hover {\n",
              "      background-color: #434B5C;\n",
              "      box-shadow: 0px 1px 3px 1px rgba(0, 0, 0, 0.15);\n",
              "      filter: drop-shadow(0px 1px 2px rgba(0, 0, 0, 0.3));\n",
              "      fill: #FFFFFF;\n",
              "    }\n",
              "  </style>\n",
              "\n",
              "      <script>\n",
              "        const buttonEl =\n",
              "          document.querySelector('#df-349f70f1-9331-4e47-8f4e-16438e8f14dd button.colab-df-convert');\n",
              "        buttonEl.style.display =\n",
              "          google.colab.kernel.accessAllowed ? 'block' : 'none';\n",
              "\n",
              "        async function convertToInteractive(key) {\n",
              "          const element = document.querySelector('#df-349f70f1-9331-4e47-8f4e-16438e8f14dd');\n",
              "          const dataTable =\n",
              "            await google.colab.kernel.invokeFunction('convertToInteractive',\n",
              "                                                     [key], {});\n",
              "          if (!dataTable) return;\n",
              "\n",
              "          const docLinkHtml = 'Like what you see? Visit the ' +\n",
              "            '<a target=\"_blank\" href=https://colab.research.google.com/notebooks/data_table.ipynb>data table notebook</a>'\n",
              "            + ' to learn more about interactive tables.';\n",
              "          element.innerHTML = '';\n",
              "          dataTable['output_type'] = 'display_data';\n",
              "          await google.colab.output.renderOutput(dataTable, element);\n",
              "          const docLink = document.createElement('div');\n",
              "          docLink.innerHTML = docLinkHtml;\n",
              "          element.appendChild(docLink);\n",
              "        }\n",
              "      </script>\n",
              "    </div>\n",
              "  </div>\n",
              "  "
            ]
          },
          "metadata": {},
          "execution_count": 88
        }
      ]
    },
    {
      "cell_type": "code",
      "source": [
        "# Defining all the conditions the vl colums\n",
        "def condition(x):\n",
        "    if x>= 1000:\n",
        "        return \"UNSUPPRESSED\"\n",
        "    elif x>= 200:\n",
        "        return \"HIGH LLV\"\n",
        "    elif x >= 50:\n",
        "        return 'LOW LLV'   \n",
        "    else:\n",
        "        return 'SUPPRESSED'\n",
        " \n",
        "# Applying the conditions\n",
        "df1['VL_31Dec2021'] = df1['VL_31Dec2021'].apply(condition)"
      ],
      "metadata": {
        "id": "2qp9Pmy4jZUO"
      },
      "id": "2qp9Pmy4jZUO",
      "execution_count": 89,
      "outputs": []
    },
    {
      "cell_type": "code",
      "source": [
        "def condition(x):\n",
        "    if x>= 1000:\n",
        "        return \"UNSUPPRESSED\"\n",
        "    elif x>= 200:\n",
        "        return \"HIGH LLV\"\n",
        "    elif x >= 50:\n",
        "        return 'LOW LLV'   \n",
        "    else:\n",
        "        return 'SUPPRESSED'\n",
        " \n",
        "# Applying the conditions\n",
        "df1['VL_30Jun2019'] = df1['VL_30Jun2019'].apply(condition)"
      ],
      "metadata": {
        "id": "7SVuX_WCkW9q"
      },
      "id": "7SVuX_WCkW9q",
      "execution_count": 90,
      "outputs": []
    },
    {
      "cell_type": "code",
      "source": [
        "\t\t\t\n",
        "def condition(x):\n",
        "    if x>= 1000:\n",
        "        return \"UNSUPPRESSED\"\n",
        "    elif x>= 200:\n",
        "        return \"HIGH LLV\"\n",
        "    elif x >= 50:\n",
        "        return 'LOW LLV'   \n",
        "    else:\n",
        "        return 'SUPPRESSED'\n",
        " \n",
        "# Applying the conditions\n",
        "df1['VL_31Dec2019'] = df1['VL_31Dec2019'].apply(condition)"
      ],
      "metadata": {
        "id": "N7U_a09pkXBP"
      },
      "id": "N7U_a09pkXBP",
      "execution_count": 91,
      "outputs": []
    },
    {
      "cell_type": "code",
      "source": [
        "def condition(x):\n",
        "    if x>= 1000:\n",
        "        return \"UNSUPPRESSED\"\n",
        "    elif x>= 200:\n",
        "        return \"HIGH LLV\"\n",
        "    elif x >= 50:\n",
        "        return 'LOW LLV'   \n",
        "    else:\n",
        "        return 'SUPPRESSED'\n",
        " \n",
        "# Applying the conditions\n",
        "df1['VL_30Jun2020'] = df1['VL_30Jun2020'].apply(condition)"
      ],
      "metadata": {
        "id": "bxzsmS7xkXFJ"
      },
      "id": "bxzsmS7xkXFJ",
      "execution_count": 92,
      "outputs": []
    },
    {
      "cell_type": "code",
      "source": [
        "def condition(x):\n",
        "    if x>= 1000:\n",
        "        return \"UNSUPPRESSED\"\n",
        "    elif x>= 200:\n",
        "        return \"HIGH LLV\"\n",
        "    elif x >= 50:\n",
        "        return 'LOW LLV'   \n",
        "    else:\n",
        "        return 'SUPPRESSED'\n",
        " \n",
        "# Applying the conditions\n",
        "df1['VL_31Dec2020'] = df1['VL_31Dec2020'].apply(condition)"
      ],
      "metadata": {
        "id": "Gz-neSlhkXIq"
      },
      "id": "Gz-neSlhkXIq",
      "execution_count": 93,
      "outputs": []
    },
    {
      "cell_type": "code",
      "source": [
        "def condition(x):\n",
        "    if x>= 1000:\n",
        "        return \"UNSUPPRESSED\"\n",
        "    elif x>= 200:\n",
        "        return \"HIGH LLV\"\n",
        "    elif x >= 50:\n",
        "        return 'LOW LLV'   \n",
        "    else:\n",
        "        return 'SUPPRESSED'\n",
        " \n",
        "# Applying the conditions\n",
        "df1['VL_30Jun2021'] = df1['VL_30Jun2021'].apply(condition)"
      ],
      "metadata": {
        "id": "1KYuotysloT7"
      },
      "execution_count": 94,
      "outputs": [],
      "id": "1KYuotysloT7"
    },
    {
      "cell_type": "code",
      "source": [
        "def condition(x):\n",
        "    if x>= 1000:\n",
        "        return \"UNSUPPRESSED\"\n",
        "    elif x>= 200:\n",
        "        return \"HIGH LLV\"\n",
        "    elif x >= 50:\n",
        "        return 'LOW LLV'   \n",
        "    else:\n",
        "        return 'SUPPRESSED'\n",
        " \n",
        "# Applying the conditions\n",
        "df1['VL_30Jun2022'] = df1['VL_30Jun2022'].apply(condition)"
      ],
      "metadata": {
        "id": "1nXLg0eBlnRB"
      },
      "execution_count": 95,
      "outputs": [],
      "id": "1nXLg0eBlnRB"
    },
    {
      "cell_type": "code",
      "source": [
        "def condition(x):\n",
        "    if x > 18: #19 AND ABOVE\n",
        "        return \"YOUNG ADULT\"\n",
        "    elif x > 12: # 13 TO 18\n",
        "        return \"TEEN\"\n",
        "    elif x > 5: # 6 T0 12\n",
        "        return 'SCHOOL AGE'\n",
        "    elif x > 2: # 3 TO 5\n",
        "        return \"PRE SCHOOL\"\n",
        "    elif x > 1:\n",
        "        return 'TODDLER'      \n",
        "    else:\n",
        "        return 'INFANT'\n",
        " \n",
        "# Applying the conditions\n",
        "df1['AgeGroup'] = df1['CurAge_Years'].apply(condition)"
      ],
      "metadata": {
        "id": "mLbPip5zfOXJ"
      },
      "id": "mLbPip5zfOXJ",
      "execution_count": 96,
      "outputs": []
    },
    {
      "cell_type": "code",
      "source": [
        "#extracting the quaters from TLD start date\n",
        "df1['QTLD'] = df1['DateofFirstTLD_Pickup'].dt.to_period('Q')"
      ],
      "metadata": {
        "id": "3Nre7wmb7AAs"
      },
      "id": "3Nre7wmb7AAs",
      "execution_count": 97,
      "outputs": []
    },
    {
      "cell_type": "code",
      "source": [
        "df1.head()"
      ],
      "metadata": {
        "colab": {
          "base_uri": "https://localhost:8080/",
          "height": 357
        },
        "id": "KvYMjgceJ1rF",
        "outputId": "037ebc0a-5057-4a7c-8234-42cef1a80136"
      },
      "id": "KvYMjgceJ1rF",
      "execution_count": 98,
      "outputs": [
        {
          "output_type": "execute_result",
          "data": {
            "text/plain": [
              "  Sex ARTStartDate DateofFirstTLD_Pickup  CurAge_Years VL_30Jun2019  \\\n",
              "0   M   2016-04-13            2019-06-05            19   SUPPRESSED   \n",
              "1   M   2020-10-07            2021-12-01             3   SUPPRESSED   \n",
              "2   F   2013-05-23            2019-07-16            19   SUPPRESSED   \n",
              "3   M   2021-03-08            2021-09-15             7   SUPPRESSED   \n",
              "4   M   2014-03-27            2020-07-14             9   SUPPRESSED   \n",
              "\n",
              "  VL_31Dec2019  VL_30Jun2020  VL_31Dec2020  VL_30Jun2021  VL_31Dec2021  \\\n",
              "0   SUPPRESSED    SUPPRESSED    SUPPRESSED    SUPPRESSED       LOW LLV   \n",
              "1   SUPPRESSED    SUPPRESSED    SUPPRESSED    SUPPRESSED      HIGH LLV   \n",
              "2   SUPPRESSED  UNSUPPRESSED    SUPPRESSED    SUPPRESSED    SUPPRESSED   \n",
              "3   SUPPRESSED    SUPPRESSED    SUPPRESSED    SUPPRESSED    SUPPRESSED   \n",
              "4   SUPPRESSED  UNSUPPRESSED  UNSUPPRESSED  UNSUPPRESSED  UNSUPPRESSED   \n",
              "\n",
              "   VL_30Jun2022     AgeGroup    QTLD  \n",
              "0       LOW LLV  YOUNG ADULT  2019Q2  \n",
              "1      HIGH LLV   PRE SCHOOL  2021Q4  \n",
              "2    SUPPRESSED  YOUNG ADULT  2019Q3  \n",
              "3    SUPPRESSED   SCHOOL AGE  2021Q3  \n",
              "4  UNSUPPRESSED   SCHOOL AGE  2020Q3  "
            ],
            "text/html": [
              "\n",
              "  <div id=\"df-9826a85e-4c3c-48eb-bc8e-9ea91231c627\">\n",
              "    <div class=\"colab-df-container\">\n",
              "      <div>\n",
              "<style scoped>\n",
              "    .dataframe tbody tr th:only-of-type {\n",
              "        vertical-align: middle;\n",
              "    }\n",
              "\n",
              "    .dataframe tbody tr th {\n",
              "        vertical-align: top;\n",
              "    }\n",
              "\n",
              "    .dataframe thead th {\n",
              "        text-align: right;\n",
              "    }\n",
              "</style>\n",
              "<table border=\"1\" class=\"dataframe\">\n",
              "  <thead>\n",
              "    <tr style=\"text-align: right;\">\n",
              "      <th></th>\n",
              "      <th>Sex</th>\n",
              "      <th>ARTStartDate</th>\n",
              "      <th>DateofFirstTLD_Pickup</th>\n",
              "      <th>CurAge_Years</th>\n",
              "      <th>VL_30Jun2019</th>\n",
              "      <th>VL_31Dec2019</th>\n",
              "      <th>VL_30Jun2020</th>\n",
              "      <th>VL_31Dec2020</th>\n",
              "      <th>VL_30Jun2021</th>\n",
              "      <th>VL_31Dec2021</th>\n",
              "      <th>VL_30Jun2022</th>\n",
              "      <th>AgeGroup</th>\n",
              "      <th>QTLD</th>\n",
              "    </tr>\n",
              "  </thead>\n",
              "  <tbody>\n",
              "    <tr>\n",
              "      <th>0</th>\n",
              "      <td>M</td>\n",
              "      <td>2016-04-13</td>\n",
              "      <td>2019-06-05</td>\n",
              "      <td>19</td>\n",
              "      <td>SUPPRESSED</td>\n",
              "      <td>SUPPRESSED</td>\n",
              "      <td>SUPPRESSED</td>\n",
              "      <td>SUPPRESSED</td>\n",
              "      <td>SUPPRESSED</td>\n",
              "      <td>LOW LLV</td>\n",
              "      <td>LOW LLV</td>\n",
              "      <td>YOUNG ADULT</td>\n",
              "      <td>2019Q2</td>\n",
              "    </tr>\n",
              "    <tr>\n",
              "      <th>1</th>\n",
              "      <td>M</td>\n",
              "      <td>2020-10-07</td>\n",
              "      <td>2021-12-01</td>\n",
              "      <td>3</td>\n",
              "      <td>SUPPRESSED</td>\n",
              "      <td>SUPPRESSED</td>\n",
              "      <td>SUPPRESSED</td>\n",
              "      <td>SUPPRESSED</td>\n",
              "      <td>SUPPRESSED</td>\n",
              "      <td>HIGH LLV</td>\n",
              "      <td>HIGH LLV</td>\n",
              "      <td>PRE SCHOOL</td>\n",
              "      <td>2021Q4</td>\n",
              "    </tr>\n",
              "    <tr>\n",
              "      <th>2</th>\n",
              "      <td>F</td>\n",
              "      <td>2013-05-23</td>\n",
              "      <td>2019-07-16</td>\n",
              "      <td>19</td>\n",
              "      <td>SUPPRESSED</td>\n",
              "      <td>SUPPRESSED</td>\n",
              "      <td>UNSUPPRESSED</td>\n",
              "      <td>SUPPRESSED</td>\n",
              "      <td>SUPPRESSED</td>\n",
              "      <td>SUPPRESSED</td>\n",
              "      <td>SUPPRESSED</td>\n",
              "      <td>YOUNG ADULT</td>\n",
              "      <td>2019Q3</td>\n",
              "    </tr>\n",
              "    <tr>\n",
              "      <th>3</th>\n",
              "      <td>M</td>\n",
              "      <td>2021-03-08</td>\n",
              "      <td>2021-09-15</td>\n",
              "      <td>7</td>\n",
              "      <td>SUPPRESSED</td>\n",
              "      <td>SUPPRESSED</td>\n",
              "      <td>SUPPRESSED</td>\n",
              "      <td>SUPPRESSED</td>\n",
              "      <td>SUPPRESSED</td>\n",
              "      <td>SUPPRESSED</td>\n",
              "      <td>SUPPRESSED</td>\n",
              "      <td>SCHOOL AGE</td>\n",
              "      <td>2021Q3</td>\n",
              "    </tr>\n",
              "    <tr>\n",
              "      <th>4</th>\n",
              "      <td>M</td>\n",
              "      <td>2014-03-27</td>\n",
              "      <td>2020-07-14</td>\n",
              "      <td>9</td>\n",
              "      <td>SUPPRESSED</td>\n",
              "      <td>SUPPRESSED</td>\n",
              "      <td>UNSUPPRESSED</td>\n",
              "      <td>UNSUPPRESSED</td>\n",
              "      <td>UNSUPPRESSED</td>\n",
              "      <td>UNSUPPRESSED</td>\n",
              "      <td>UNSUPPRESSED</td>\n",
              "      <td>SCHOOL AGE</td>\n",
              "      <td>2020Q3</td>\n",
              "    </tr>\n",
              "  </tbody>\n",
              "</table>\n",
              "</div>\n",
              "      <button class=\"colab-df-convert\" onclick=\"convertToInteractive('df-9826a85e-4c3c-48eb-bc8e-9ea91231c627')\"\n",
              "              title=\"Convert this dataframe to an interactive table.\"\n",
              "              style=\"display:none;\">\n",
              "        \n",
              "  <svg xmlns=\"http://www.w3.org/2000/svg\" height=\"24px\"viewBox=\"0 0 24 24\"\n",
              "       width=\"24px\">\n",
              "    <path d=\"M0 0h24v24H0V0z\" fill=\"none\"/>\n",
              "    <path d=\"M18.56 5.44l.94 2.06.94-2.06 2.06-.94-2.06-.94-.94-2.06-.94 2.06-2.06.94zm-11 1L8.5 8.5l.94-2.06 2.06-.94-2.06-.94L8.5 2.5l-.94 2.06-2.06.94zm10 10l.94 2.06.94-2.06 2.06-.94-2.06-.94-.94-2.06-.94 2.06-2.06.94z\"/><path d=\"M17.41 7.96l-1.37-1.37c-.4-.4-.92-.59-1.43-.59-.52 0-1.04.2-1.43.59L10.3 9.45l-7.72 7.72c-.78.78-.78 2.05 0 2.83L4 21.41c.39.39.9.59 1.41.59.51 0 1.02-.2 1.41-.59l7.78-7.78 2.81-2.81c.8-.78.8-2.07 0-2.86zM5.41 20L4 18.59l7.72-7.72 1.47 1.35L5.41 20z\"/>\n",
              "  </svg>\n",
              "      </button>\n",
              "      \n",
              "  <style>\n",
              "    .colab-df-container {\n",
              "      display:flex;\n",
              "      flex-wrap:wrap;\n",
              "      gap: 12px;\n",
              "    }\n",
              "\n",
              "    .colab-df-convert {\n",
              "      background-color: #E8F0FE;\n",
              "      border: none;\n",
              "      border-radius: 50%;\n",
              "      cursor: pointer;\n",
              "      display: none;\n",
              "      fill: #1967D2;\n",
              "      height: 32px;\n",
              "      padding: 0 0 0 0;\n",
              "      width: 32px;\n",
              "    }\n",
              "\n",
              "    .colab-df-convert:hover {\n",
              "      background-color: #E2EBFA;\n",
              "      box-shadow: 0px 1px 2px rgba(60, 64, 67, 0.3), 0px 1px 3px 1px rgba(60, 64, 67, 0.15);\n",
              "      fill: #174EA6;\n",
              "    }\n",
              "\n",
              "    [theme=dark] .colab-df-convert {\n",
              "      background-color: #3B4455;\n",
              "      fill: #D2E3FC;\n",
              "    }\n",
              "\n",
              "    [theme=dark] .colab-df-convert:hover {\n",
              "      background-color: #434B5C;\n",
              "      box-shadow: 0px 1px 3px 1px rgba(0, 0, 0, 0.15);\n",
              "      filter: drop-shadow(0px 1px 2px rgba(0, 0, 0, 0.3));\n",
              "      fill: #FFFFFF;\n",
              "    }\n",
              "  </style>\n",
              "\n",
              "      <script>\n",
              "        const buttonEl =\n",
              "          document.querySelector('#df-9826a85e-4c3c-48eb-bc8e-9ea91231c627 button.colab-df-convert');\n",
              "        buttonEl.style.display =\n",
              "          google.colab.kernel.accessAllowed ? 'block' : 'none';\n",
              "\n",
              "        async function convertToInteractive(key) {\n",
              "          const element = document.querySelector('#df-9826a85e-4c3c-48eb-bc8e-9ea91231c627');\n",
              "          const dataTable =\n",
              "            await google.colab.kernel.invokeFunction('convertToInteractive',\n",
              "                                                     [key], {});\n",
              "          if (!dataTable) return;\n",
              "\n",
              "          const docLinkHtml = 'Like what you see? Visit the ' +\n",
              "            '<a target=\"_blank\" href=https://colab.research.google.com/notebooks/data_table.ipynb>data table notebook</a>'\n",
              "            + ' to learn more about interactive tables.';\n",
              "          element.innerHTML = '';\n",
              "          dataTable['output_type'] = 'display_data';\n",
              "          await google.colab.output.renderOutput(dataTable, element);\n",
              "          const docLink = document.createElement('div');\n",
              "          docLink.innerHTML = docLinkHtml;\n",
              "          element.appendChild(docLink);\n",
              "        }\n",
              "      </script>\n",
              "    </div>\n",
              "  </div>\n",
              "  "
            ]
          },
          "metadata": {},
          "execution_count": 98
        }
      ]
    },
    {
      "cell_type": "code",
      "execution_count": 99,
      "id": "9fbef5ba",
      "metadata": {
        "id": "9fbef5ba",
        "outputId": "a0b8f280-d89f-41e3-9514-9b7fc72af379",
        "colab": {
          "base_uri": "https://localhost:8080/",
          "height": 297
        }
      },
      "outputs": [
        {
          "output_type": "execute_result",
          "data": {
            "text/plain": [
              "<matplotlib.axes._subplots.AxesSubplot at 0x7f204c92d990>"
            ]
          },
          "metadata": {},
          "execution_count": 99
        },
        {
          "output_type": "display_data",
          "data": {
            "text/plain": [
              "<Figure size 432x288 with 1 Axes>"
            ],
            "image/png": "[encoded data removed]"
          },
          "metadata": {
            "needs_background": "light"
          }
        }
      ],
      "source": [
        "sns.histplot(data=df1, x=\"CurAge_Years\", hue=\"Sex\", multiple=\"stack\", palette='Set2' )\n"
      ]
    },
    {
      "cell_type": "code",
      "source": [
        "sns.histplot(data=df1, x=\"CurAge_Years\", hue=\"VL_31Dec2020\", multiple=\"stack\")\n"
      ],
      "metadata": {
        "colab": {
          "base_uri": "https://localhost:8080/",
          "height": 297
        },
        "id": "ls3SlhM0tzCo",
        "outputId": "caef6163-e39e-4170-cd81-49b51c7d91af"
      },
      "id": "ls3SlhM0tzCo",
      "execution_count": 100,
      "outputs": [
        {
          "output_type": "execute_result",
          "data": {
            "text/plain": [
              "<matplotlib.axes._subplots.AxesSubplot at 0x7f204c992e10>"
            ]
          },
          "metadata": {},
          "execution_count": 100
        },
        {
          "output_type": "display_data",
          "data": {
            "text/plain": [
              "<Figure size 432x288 with 1 Axes>"
            ],
            "image/png": "[encoded data removed]"
          },
          "metadata": {
            "needs_background": "light"
          }
        }
      ]
    },
    {
      "cell_type": "code",
      "source": [
        "sns.histplot(data=df1, x=\"CurAge_Years\", hue=\"VL_31Dec2021\", multiple=\"stack\")\n"
      ],
      "metadata": {
        "colab": {
          "base_uri": "https://localhost:8080/",
          "height": 297
        },
        "id": "YiZw_p36ux2J",
        "outputId": "00f197fe-0318-45ab-abb2-1f39db8f3f32"
      },
      "id": "YiZw_p36ux2J",
      "execution_count": 101,
      "outputs": [
        {
          "output_type": "execute_result",
          "data": {
            "text/plain": [
              "<matplotlib.axes._subplots.AxesSubplot at 0x7f204c4f6290>"
            ]
          },
          "metadata": {},
          "execution_count": 101
        },
        {
          "output_type": "display_data",
          "data": {
            "text/plain": [
              "<Figure size 432x288 with 1 Axes>"
            ],
            "image/png": "[encoded data removed]"
          },
          "metadata": {
            "needs_background": "light"
          }
        }
      ]
    },
    {
      "cell_type": "code",
      "source": [
        "sns.relplot(y=df1.DateofFirstTLD_Pickup, x=df1.CurAge_Years, hue=df1.VL_31Dec2021)\n",
        "plt.title(\"SUPPRESSION BASED ON PCK-UP QUATER AFTER SECOND VL\")"
      ],
      "metadata": {
        "colab": {
          "base_uri": "https://localhost:8080/",
          "height": 403
        },
        "id": "eeRF1rjYSwuN",
        "outputId": "94e6a145-e62d-4040-fe64-ca1fcebee9f3"
      },
      "id": "eeRF1rjYSwuN",
      "execution_count": 102,
      "outputs": [
        {
          "output_type": "execute_result",
          "data": {
            "text/plain": [
              "Text(0.5, 1.0, 'SUPPRESSION BASED ON PCK-UP QUATER AFTER SECOND VL')"
            ]
          },
          "metadata": {},
          "execution_count": 102
        },
        {
          "output_type": "display_data",
          "data": {
            "text/plain": [
              "<Figure size 476.125x360 with 1 Axes>"
            ],
            "image/png": "[encoded data removed]"
          },
          "metadata": {
            "needs_background": "light"
          }
        }
      ]
    },
    {
      "cell_type": "code",
      "source": [
        "sns.lineplot(data=df1, y=\"CurAge_Years\", x=\"ARTStartDate\", hue = 'VL_31Dec2021', err_style=\"bars\")"
      ],
      "metadata": {
        "id": "fZ7zew8ggdCy"
      },
      "id": "fZ7zew8ggdCy",
      "execution_count": null,
      "outputs": []
    },
    {
      "cell_type": "code",
      "source": [
        "sns.histplot(data=df1, x=\"CurAge_Years\", y=\"ARTStartDate\", hue='VL_30Jun2022')\n"
      ],
      "metadata": {
        "id": "N_xVDvh6iUTo"
      },
      "id": "N_xVDvh6iUTo",
      "execution_count": null,
      "outputs": []
    },
    {
      "cell_type": "code",
      "source": [
        "sns.scatterplot(data=df1, y=\"CurAge_Years\", x=\"ARTStartDate\", hue='VL_30Jun2022')\n",
        "sns.rugplot(data=df1, y=\"CurAge_Years\", x=\"ARTStartDate\", hue='VL_31Dec2021')\n"
      ],
      "metadata": {
        "id": "B0y1R-K8j3ep"
      },
      "id": "B0y1R-K8j3ep",
      "execution_count": null,
      "outputs": []
    },
    {
      "cell_type": "code",
      "source": [
        "sns.catplot(data=df1, x=\"CurAge_Years\", y='VL_30Jun2022', kind = 'boxen')"
      ],
      "metadata": {
        "id": "mczoLwAamFKR"
      },
      "id": "mczoLwAamFKR",
      "execution_count": null,
      "outputs": []
    },
    {
      "cell_type": "code",
      "source": [
        "df1.columns"
      ],
      "metadata": {
        "id": "jHLzjAjCig2Y"
      },
      "id": "jHLzjAjCig2Y",
      "execution_count": null,
      "outputs": []
    },
    {
      "cell_type": "code",
      "source": [
        "sns.lmplot(data = df, x='CurAge_Years', y='VL_31Dec2021', hue = 'Sex')"
      ],
      "metadata": {
        "id": "TeYYBivX-nqS"
      },
      "id": "TeYYBivX-nqS",
      "execution_count": null,
      "outputs": []
    },
    {
      "cell_type": "code",
      "source": [
        "df1.columns"
      ],
      "metadata": {
        "id": "uSRqPsz0lsXy"
      },
      "id": "uSRqPsz0lsXy",
      "execution_count": null,
      "outputs": []
    },
    {
      "cell_type": "code",
      "source": [
        "def condition(x):\n",
        "    if x >= 1000:\n",
        "        return 3\n",
        "    elif x>= 200:\n",
        "        return 2\n",
        "    elif x >= 50:\n",
        "        return 1  \n",
        "    else:\n",
        "        return 0\n",
        " \n",
        "# Applying the conditions\n",
        "df1['VL_Jun2022'] = df['VL_30Jun2022'].apply(condition)"
      ],
      "metadata": {
        "id": "78btoVySl7ZF"
      },
      "id": "78btoVySl7ZF",
      "execution_count": null,
      "outputs": []
    },
    {
      "cell_type": "code",
      "source": [
        "def condition(x):\n",
        "    if x >= 1000:\n",
        "        return 3\n",
        "    elif x>= 200:\n",
        "        return 2\n",
        "    elif x >= 50:\n",
        "        return 1  \n",
        "    else:\n",
        "        return 0\n",
        " \n",
        "# Applying the conditions\n",
        "df1['VL_Jun2021'] = df['VL_30Jun2021'].apply(condition)"
      ],
      "metadata": {
        "id": "yt47E8MXm74r"
      },
      "id": "yt47E8MXm74r",
      "execution_count": null,
      "outputs": []
    },
    {
      "cell_type": "code",
      "source": [
        "def condition(x):\n",
        "    if x >= 1000:\n",
        "        return 3\n",
        "    elif x>= 200:\n",
        "        return 2\n",
        "    elif x >= 50:\n",
        "        return 1  \n",
        "    else:\n",
        "        return 0\n",
        " \n",
        "# Applying the conditions\n",
        "df1['VL_Jun2020'] = df['VL_30Jun2020'].apply(condition)"
      ],
      "metadata": {
        "id": "gYo-y121m77n"
      },
      "id": "gYo-y121m77n",
      "execution_count": null,
      "outputs": []
    },
    {
      "cell_type": "code",
      "source": [
        "def condition(x):\n",
        "    if x >= 1000:\n",
        "        return 3\n",
        "    elif x>= 200:\n",
        "        return 2\n",
        "    elif x >= 50:\n",
        "        return 1  \n",
        "    else:\n",
        "        return 0\n",
        " \n",
        "# Applying the conditions\n",
        "df1['VL_Jun2019'] = df['VL_30Jun2019'].apply(condition)"
      ],
      "metadata": {
        "id": "cik_7bdHm7_m"
      },
      "id": "cik_7bdHm7_m",
      "execution_count": null,
      "outputs": []
    },
    {
      "cell_type": "code",
      "source": [
        "def condition(x):\n",
        "    if x >= 1000:\n",
        "        return 3\n",
        "    elif x>= 200:\n",
        "        return 2\n",
        "    elif x >= 50:\n",
        "        return 1  \n",
        "    else:\n",
        "        return 0\n",
        " \n",
        "# Applying the conditions\n",
        "df1['VL_Dec2021'] = df['VL_31Dec2021'].apply(condition)"
      ],
      "metadata": {
        "id": "Lo5ERtAbm8CX"
      },
      "id": "Lo5ERtAbm8CX",
      "execution_count": null,
      "outputs": []
    },
    {
      "cell_type": "code",
      "source": [
        "def condition(x):\n",
        "    if x >= 1000:\n",
        "        return 3\n",
        "    elif x>= 200:\n",
        "        return 2\n",
        "    elif x >= 50:\n",
        "        return 1  \n",
        "    else:\n",
        "        return 0\n",
        " \n",
        "# Applying the conditions\n",
        "df1['VL_Dec2020'] = df['VL_31Dec2020'].apply(condition)"
      ],
      "metadata": {
        "id": "K9EDtcI3m8Ji"
      },
      "id": "K9EDtcI3m8Ji",
      "execution_count": null,
      "outputs": []
    },
    {
      "cell_type": "code",
      "source": [
        "def condition(x):\n",
        "    if x >= 1000:\n",
        "        return 3\n",
        "    elif x>= 200:\n",
        "        return 2\n",
        "    elif x >= 50:\n",
        "        return 1  \n",
        "    else:\n",
        "        return 0\n",
        " \n",
        "# Applying the conditions\n",
        "df1['VL_Dec2019'] = df['VL_31Dec2019'].apply(condition)"
      ],
      "metadata": {
        "id": "neZmXnUTngty"
      },
      "id": "neZmXnUTngty",
      "execution_count": null,
      "outputs": []
    },
    {
      "cell_type": "code",
      "source": [
        "def condition(x):\n",
        "    if x > 18: #19 AND ABOVE\n",
        "        return 5\n",
        "    elif x > 12: # 13 TO 18\n",
        "        return 4\n",
        "    elif x > 5: # 6 T0 12\n",
        "        return 3\n",
        "    elif x > 2: # 3 TO 5\n",
        "        return 2\n",
        "    elif x > 1:\n",
        "        return 1      \n",
        "    else:\n",
        "        return 0\n",
        " \n",
        "# Applying the conditions\n",
        "df1['AgeGrade'] = df['CurAge_Years'].apply(condition)"
      ],
      "metadata": {
        "id": "wWVqwCMSngw3"
      },
      "id": "wWVqwCMSngw3",
      "execution_count": null,
      "outputs": []
    },
    {
      "cell_type": "code",
      "source": [
        "#Creating a dummy variable for sex status\n",
        "df1['SEX_D'] = np.where(df['Sex'] == \"M\", 1, 0) "
      ],
      "metadata": {
        "id": "RT6cZtKtoo3R"
      },
      "id": "RT6cZtKtoo3R",
      "execution_count": null,
      "outputs": []
    },
    {
      "cell_type": "code",
      "source": [
        "df2 = df1[['QTLD', 'VL_Jun2022', 'VL_Jun2021', 'VL_Jun2020', 'VL_Jun2019', 'VL_Dec2021', 'VL_Dec2020', 'SEX_D', 'CurAge_Years', 'AgeGrade']]"
      ],
      "metadata": {
        "id": "colL8zr2oBvT"
      },
      "id": "colL8zr2oBvT",
      "execution_count": null,
      "outputs": []
    },
    {
      "cell_type": "code",
      "execution_count": null,
      "id": "7fd11443",
      "metadata": {
        "id": "7fd11443"
      },
      "outputs": [],
      "source": [
        "df2.head()"
      ]
    },
    {
      "cell_type": "code",
      "source": [
        "df2.describe()"
      ],
      "metadata": {
        "id": "9aOV4-cEpl7F"
      },
      "id": "9aOV4-cEpl7F",
      "execution_count": null,
      "outputs": []
    },
    {
      "cell_type": "code",
      "execution_count": null,
      "id": "de02d20d",
      "metadata": {
        "id": "de02d20d"
      },
      "outputs": [],
      "source": [
        "plt.figure(figsize = (15,6))\n",
        "df2.groupby('CurAge_Years').size().plot()\n",
        "plt.title('SHOWING AGE DISTIBUTION', color='r', fontsize=18)"
      ]
    },
    {
      "cell_type": "code",
      "execution_count": null,
      "id": "06cfd0f4",
      "metadata": {
        "id": "06cfd0f4"
      },
      "outputs": [],
      "source": [
        "plt.figure(figsize = (15,6))\n",
        "df2.groupby(['CurAge_Years']).size().plot(kind='bar')\n",
        "plt.title('SHOWING AGE DISTIBUTION', color='r', fontsize=18)"
      ]
    },
    {
      "cell_type": "code",
      "execution_count": null,
      "id": "3711a0de",
      "metadata": {
        "id": "3711a0de"
      },
      "outputs": [],
      "source": [
        "a = df.groupby(['CurAge_Years', 'Sex'])['Sex'].count().reset_index(name='Count')\n",
        "a['Percent(%)'] = a.Count/len(df) * 100\n",
        "print(a)"
      ]
    },
    {
      "cell_type": "code",
      "execution_count": null,
      "id": "7a516264",
      "metadata": {
        "id": "7a516264"
      },
      "outputs": [],
      "source": [
        "plt.figure(figsize = (15,6))\n",
        "df1.groupby(['CurAge_Years','Sex']).size().plot(kind = 'bar', color=[\"#5511aa\", \"#bed077\"])\n",
        "plt.title('SHOWING AGE DISTRIBUTION BASED ON SEX', color='r', fontsize=18)"
      ]
    },
    {
      "cell_type": "code",
      "execution_count": null,
      "id": "c36a3f8d",
      "metadata": {
        "id": "c36a3f8d"
      },
      "outputs": [],
      "source": [
        "#number of each sex in eacg age groupp of the data set\n",
        "a = df1.groupby(['AgeGroup', 'Sex'])['Sex'].count().reset_index(name='Total')\n",
        "a['Percent(%)'] = a.Total/len(df1) * 100\n",
        "print(a)"
      ]
    },
    {
      "cell_type": "code",
      "execution_count": null,
      "id": "b34ffa4e",
      "metadata": {
        "id": "b34ffa4e"
      },
      "outputs": [],
      "source": [
        "sns.countplot(data=df2, x='AgeGrade', hue='SEX_D', palette=[\"#111111\", \"#aaaaaa\"])\n",
        "plt.title('SEX VS AGE GROUP DISTRIBUTION', \n",
        "          color='r', fontsize='large')\n"
      ]
    },
    {
      "cell_type": "code",
      "execution_count": null,
      "id": "b83c4775",
      "metadata": {
        "id": "b83c4775"
      },
      "outputs": [],
      "source": [
        "#dirst vl result based on at start of TLD based on quater\n",
        "\n",
        "a = df1.groupby(['AgeGroup', 'VL_30Jun2022'])['Sex'].count().reset_index(name='Total')\n",
        "a['Percent(%)'] = a.Total/len(df1) * 100\n",
        "print(a)"
      ]
    },
    {
      "cell_type": "code",
      "execution_count": null,
      "id": "c1aeaabc",
      "metadata": {
        "id": "c1aeaabc"
      },
      "outputs": [],
      "source": [
        "#percentage of first vl result at start of TLD by quater\n",
        "a = df1.groupby(['VL_30Jun2019', 'Sex'])['Sex'].count().reset_index(name='Total')\n",
        "a['Percent(%)'] = a.Total/len(df1) * 100\n",
        "print(a)"
      ]
    },
    {
      "cell_type": "code",
      "source": [
        "#Showing suppression vs unsuppression in sex\n",
        "a = df1.groupby(['VL_30Jun2020', 'Sex'])['Sex'].count().reset_index(name='Total')\n",
        "a['Percent(%)'] = a.Total/len(df1) * 100\n",
        "print(a)"
      ],
      "metadata": {
        "id": "QM4XbC3oy6gG"
      },
      "id": "QM4XbC3oy6gG",
      "execution_count": null,
      "outputs": []
    },
    {
      "cell_type": "code",
      "execution_count": null,
      "id": "28da43eb",
      "metadata": {
        "id": "28da43eb"
      },
      "outputs": [],
      "source": [
        "#Showing suppression vs unsuppression in sex\n",
        "a = df1.groupby(['VL_30Jun2021', 'Sex'])['Sex'].count().reset_index(name='Total')\n",
        "a['Percent(%)'] = a.Total/len(df1) * 100\n",
        "print(a)"
      ]
    },
    {
      "cell_type": "code",
      "source": [
        "#Showing suppression vs unsuppression in sex\n",
        "a = df1.groupby(['VL_30Jun2022', 'Sex'])['Sex'].count().reset_index(name='Total')\n",
        "a['Percent(%)'] = a.Total/len(df1) * 100\n",
        "print(a)"
      ],
      "metadata": {
        "id": "6mfol-Khyv5z"
      },
      "id": "6mfol-Khyv5z",
      "execution_count": null,
      "outputs": []
    },
    {
      "cell_type": "code",
      "source": [
        "#Showing suppression vs unsuppression in sex\n",
        "a = df1.groupby(['VL_31Dec2021', 'Sex'])['Sex'].count().reset_index(name='Total')\n",
        "a['Percent(%)'] = a.Total/len(df1) * 100\n",
        "print(a)"
      ],
      "metadata": {
        "id": "XPrrSYiGyv8z"
      },
      "id": "XPrrSYiGyv8z",
      "execution_count": null,
      "outputs": []
    },
    {
      "cell_type": "code",
      "source": [
        "#Showing suppression vs unsuppression in sex\n",
        "a = df1.groupby(['VL_31Dec2020', 'Sex'])['Sex'].count().reset_index(name='Total')\n",
        "a['Percent(%)'] = a.Total/len(df1) * 100\n",
        "print(a)"
      ],
      "metadata": {
        "id": "bFX3G8YSzJP7"
      },
      "id": "bFX3G8YSzJP7",
      "execution_count": null,
      "outputs": []
    },
    {
      "cell_type": "code",
      "source": [
        "#Showing suppression vs unsuppression in sex\n",
        "a = df1.groupby(['VL_31Dec2021', 'AgeGroup'])['AgeGroup'].count().reset_index(name='Total')\n",
        "a['Percent(%)'] = a.Total/len(df1) * 100\n",
        "print(a)"
      ],
      "metadata": {
        "id": "F-_Pe0ymzJl7"
      },
      "id": "F-_Pe0ymzJl7",
      "execution_count": null,
      "outputs": []
    },
    {
      "cell_type": "code",
      "source": [
        "#Showing suppression vs unsuppression in sex\n",
        "a = df1.groupby(['VL_31Dec2020', 'AgeGroup'])['AgeGroup'].count().reset_index(name='Total')\n",
        "a['Percent(%)'] = a.Total/len(df1) * 100\n",
        "print(a)"
      ],
      "metadata": {
        "id": "ijQ1A7-7zojR"
      },
      "id": "ijQ1A7-7zojR",
      "execution_count": null,
      "outputs": []
    },
    {
      "cell_type": "code",
      "source": [
        "#Showing suppression vs unsuppression in sex\n",
        "a = df1.groupby(['VL_30Jun2019', 'AgeGroup'])['AgeGroup'].count().reset_index(name='Total')\n",
        "a['Percent(%)'] = a.Total/len(df1) * 100\n",
        "print(a)"
      ],
      "metadata": {
        "id": "H4aKwasozoqX"
      },
      "id": "H4aKwasozoqX",
      "execution_count": null,
      "outputs": []
    },
    {
      "cell_type": "code",
      "source": [
        "#Showing suppression vs unsuppression in sex\n",
        "a = df1.groupby(['VL_30Jun2020', 'AgeGroup'])['AgeGroup'].count().reset_index(name='Total')\n",
        "a['Percent(%)'] = a.Total/len(df1) * 100\n",
        "print(a)"
      ],
      "metadata": {
        "id": "cyDmB0ncz2yG"
      },
      "id": "cyDmB0ncz2yG",
      "execution_count": null,
      "outputs": []
    },
    {
      "cell_type": "code",
      "source": [
        "#Showing suppression vs unsuppression in sex\n",
        "a = df1.groupby(['VL_30Jun2021', 'AgeGroup'])['AgeGroup'].count().reset_index(name='Total')\n",
        "a['Percent(%)'] = a.Total/len(df1) * 100\n",
        "print(a)"
      ],
      "metadata": {
        "id": "jcPyPyqAz217"
      },
      "id": "jcPyPyqAz217",
      "execution_count": null,
      "outputs": []
    },
    {
      "cell_type": "code",
      "source": [
        "#Showing suppression vs unsuppression in sex\n",
        "a = df1.groupby(['VL_30Jun2022', 'AgeGroup'])['AgeGroup'].count().reset_index(name='Total')\n",
        "a['Percent(%)'] = a.Total/len(df1) * 100\n",
        "print(a)"
      ],
      "metadata": {
        "id": "W_hWxDL0z24l"
      },
      "id": "W_hWxDL0z24l",
      "execution_count": null,
      "outputs": []
    },
    {
      "cell_type": "code",
      "execution_count": null,
      "id": "6a97d09a",
      "metadata": {
        "id": "6a97d09a"
      },
      "outputs": [],
      "source": [
        "sns.countplot(data=df1.loc[df1['VL_30Jun2022'] =='UNSUPPRESSED'], x='AgeGroup', hue='Sex')\n",
        "plt.title('SEX & AGE GROUP DISTRIBUTION OF UNSUPPRESSED AT JUNE 2022', \n",
        "          color='r', fontsize='medium')\n"
      ]
    },
    {
      "cell_type": "code",
      "source": [
        "plt.figure(figsize = (10,6))\n",
        "sns.countplot(data=df1.loc[df1['VL_30Jun2022'] =='SUPPRESSED'], x='AgeGroup', hue='Sex')\n",
        "plt.title('SEX & AGE GROUP DISTRIBUTION OF SUPPRESSED AT JUNE 2022', \n",
        "          color='r', fontsize='medium')"
      ],
      "metadata": {
        "id": "2Q_zOJxv1CpK"
      },
      "id": "2Q_zOJxv1CpK",
      "execution_count": null,
      "outputs": []
    },
    {
      "cell_type": "code",
      "execution_count": null,
      "id": "5023f380",
      "metadata": {
        "id": "5023f380"
      },
      "outputs": [],
      "source": [
        "sns.countplot(data=df1.loc[df1['VL_30Jun2021'] =='SUPPRESSED'], x='AgeGroup', hue='Sex')\n"
      ]
    },
    {
      "cell_type": "code",
      "execution_count": null,
      "id": "6c1f4cb0",
      "metadata": {
        "id": "6c1f4cb0"
      },
      "outputs": [],
      "source": [
        "#showing outc\n",
        "\n",
        "a = df1.groupby(['VL_30Jun2019', 'VL_30Jun2022'])['Sex'].count().reset_index(name='Total')\n",
        "a['Percent(%)'] = a.Total/len(df1) * 100\n",
        "print(a)"
      ]
    },
    {
      "cell_type": "code",
      "source": [
        "a = df1.groupby(['VL_30Jun2020', 'VL_30Jun2022'])['Sex'].count().reset_index(name='Total')\n",
        "a['Percent(%)'] = a.Total/len(df1) * 100\n",
        "print(a)"
      ],
      "metadata": {
        "id": "lRnJAKk63P9e"
      },
      "id": "lRnJAKk63P9e",
      "execution_count": null,
      "outputs": []
    },
    {
      "cell_type": "code",
      "source": [
        "a = df1.groupby(['VL_30Jun2021', 'VL_30Jun2022'])['Sex'].count().reset_index(name='Total')\n",
        "a['Percent(%)'] = a.Total/len(df1) * 100\n",
        "print(a)"
      ],
      "metadata": {
        "id": "g_5quYJ63bTS"
      },
      "id": "g_5quYJ63bTS",
      "execution_count": null,
      "outputs": []
    },
    {
      "cell_type": "code",
      "source": [
        "a = df1.groupby(['VL_31Dec2020', 'VL_30Jun2022'])['Sex'].count().reset_index(name='Total')\n",
        "a['Percent(%)'] = a.Total/len(df1) * 100\n",
        "print(a)"
      ],
      "metadata": {
        "id": "emLhWe9T3lpO"
      },
      "id": "emLhWe9T3lpO",
      "execution_count": null,
      "outputs": []
    },
    {
      "cell_type": "code",
      "source": [
        "a = df1.groupby(['VL_30Jun2020', 'VL_30Jun2022', 'Sex'])['Sex'].count().reset_index(name='Total')\n",
        "a['Percent(%)'] = a.Total/len(df1) * 100\n",
        "print(a)"
      ],
      "metadata": {
        "id": "_vy0A_IS3ykL"
      },
      "id": "_vy0A_IS3ykL",
      "execution_count": null,
      "outputs": []
    },
    {
      "cell_type": "code",
      "source": [
        "a = df1.groupby(['VL_30Jun2022', 'AgeGroup'])['Sex'].count().reset_index(name='Total')\n",
        "a['Percent(%)'] = a.Total/len(df1) * 100\n",
        "print(a)"
      ],
      "metadata": {
        "id": "3FfPgwqj43-m"
      },
      "id": "3FfPgwqj43-m",
      "execution_count": null,
      "outputs": []
    },
    {
      "cell_type": "code",
      "execution_count": null,
      "id": "d5c39612",
      "metadata": {
        "id": "d5c39612"
      },
      "outputs": [],
      "source": [
        "\n",
        "plt.figure(figsize = (15,6))\n",
        "df1.groupby('QTLD' ).size().plot (marker = '*', ms = 10, mec = 'r', mfc = 'g', ls = '--', c = 'hotpink', linewidth = '1.5')\n",
        "\n",
        "df1.groupby('VL_30Jun2022').size().plot (marker = 'o', ms = 10, mec = 'g', mfc = 'r', ls = ':', c = 'y', linewidth = '2.5')\n",
        "\n",
        "plt.title('TOTAL NUMBER CLIENTS ON EACH REGIMEN', color='b')"
      ]
    },
    {
      "cell_type": "code",
      "execution_count": null,
      "id": "70e9856b",
      "metadata": {
        "id": "70e9856b"
      },
      "outputs": [],
      "source": [
        "plt.figure(figsize = (20,6))\n",
        "sns.set_style('whitegrid')\n",
        "sns.countplot(x='QTLD', hue='Sex',data=df1)\n",
        "plt.title('BARCHART SHOWING THE TOTAL NUMBER OF CLIENTS PER SEX ON EACH REGIMEN ', color='r', fontsize=20)"
      ]
    },
    {
      "cell_type": "code",
      "execution_count": null,
      "id": "e9ec3a99",
      "metadata": {
        "id": "e9ec3a99"
      },
      "outputs": [],
      "source": [
        "plt.figure(figsize = (5,6))\n",
        "df1.groupby(df1['AgeGroup']).size().plot(kind = 'barh')\n",
        "plt.title('AGE GROUP DISTRIBUTION', color='r', fontsize=20)"
      ]
    },
    {
      "cell_type": "code",
      "execution_count": null,
      "id": "f504ae66",
      "metadata": {
        "id": "f504ae66"
      },
      "outputs": [],
      "source": [
        "plt.figure(figsize = (10,6))\n",
        "df1.groupby(df1['Sex']).size().plot(kind = 'pie', autopct='%1.0f%%', \n",
        "                                                                      pctdistance=1.1, labeldistance=1.2)\n",
        "plt.title('SHOWING SEX DISTRIBUTION', color='r', fontsize=20)"
      ]
    },
    {
      "cell_type": "code",
      "execution_count": null,
      "id": "647ade75",
      "metadata": {
        "id": "647ade75"
      },
      "outputs": [],
      "source": [
        "plt.figure(figsize = (15,6))\n",
        "df1.groupby(['VL_30Jun2022','Sex'])['Sex'].count().plot(kind = 'pie', autopct='%1.0f%%', \n",
        "                                                                      pctdistance=1.1, labeldistance=1.2)\n",
        "plt.title('SHOWING STATUS BASED ON SEX AFTER 6 MONTHS', color='r', fontsize=20)"
      ]
    },
    {
      "cell_type": "code",
      "execution_count": null,
      "id": "267a95d3",
      "metadata": {
        "id": "267a95d3"
      },
      "outputs": [],
      "source": [
        "plt.figure(figsize = (15,6))\n",
        "df1.groupby(['VL_30Jun2021','Sex'])['Sex'].count().plot(kind = 'pie', autopct='%0.0f%%', \n",
        "                                                                      pctdistance=1.1, labeldistance=1.2)\n",
        "plt.title('SHOWING SUPPRESSION BASED ON SEX AFTER ONE YEAR', color='r', fontsize=20)"
      ]
    },
    {
      "cell_type": "code",
      "execution_count": null,
      "id": "2db838f3",
      "metadata": {
        "id": "2db838f3"
      },
      "outputs": [],
      "source": [
        "plt.figure(figsize = (15,6))\n",
        "df1.groupby(['VL_30Jun2022','AgeGroup'])['Sex'].count().plot(kind = 'bar')\n",
        "plt.title('SHOWING SUPPRESSION BASED ON SEX AFTER SIX MONTHS AND REMAINED AFTER ONE YEAR', color='r', fontsize=20)"
      ]
    },
    {
      "cell_type": "code",
      "execution_count": null,
      "id": "56ad084d",
      "metadata": {
        "id": "56ad084d"
      },
      "outputs": [],
      "source": [
        "plt.figure(figsize = (10,8)\n",
        "sns.countplot(x = 'QTLD' ,  hue = 'VL_30Jun2022', data = df1, palette='Dark2_r')"
      ]
    },
    {
      "cell_type": "code",
      "execution_count": null,
      "id": "7d1844fa",
      "metadata": {
        "id": "7d1844fa"
      },
      "outputs": [],
      "source": [
        "plt.figure(figsize = (30,10))\n",
        "sns.countplot(x = 'QStart' ,  hue = 'SECOND_STATUS', data = df2, palette='CMRmap')"
      ]
    },
    {
      "cell_type": "code",
      "execution_count": null,
      "id": "f7c5bc3f",
      "metadata": {
        "id": "f7c5bc3f"
      },
      "outputs": [],
      "source": [
        "plt.figure(figsize = (30,10))\n",
        "ap = sns.countplot(x = 'QTLD' ,  hue = 'FIRST_STATUS', data = df2, palette='bright')"
      ]
    },
    {
      "cell_type": "code",
      "execution_count": null,
      "id": "084d083a",
      "metadata": {
        "id": "084d083a"
      },
      "outputs": [],
      "source": [
        "plt.figure(figsize = (20,10))\n",
        "ab = sns.countplot(x = 'QTLD' ,  hue = 'SECOND_STATUS', data = df2, palette='winter')"
      ]
    },
    {
      "cell_type": "code",
      "execution_count": null,
      "id": "07cc6550",
      "metadata": {
        "id": "07cc6550"
      },
      "outputs": [],
      "source": [
        "plt.figure(figsize = (20, 8))\n",
        "sns.countplot(x = 'RegimenAtARTStart' ,  hue = 'FIRST_STATUS', data = df2, palette=['#420371',\"#FAAE5B\"])\n",
        "plt.title('SHOWING SUPPRESSION VS UNSUPPRESSION BASED ON REGIMEN AFTER SIX MONTHS', color='r', font = 'bold', fontsize=20)"
      ]
    },
    {
      "cell_type": "code",
      "execution_count": null,
      "id": "d8477372",
      "metadata": {
        "id": "d8477372"
      },
      "outputs": [],
      "source": [
        "plt.figure(figsize = (20, 8))\n",
        "sns.countplot(x = 'RegimenAtARTStart' ,  hue = 'SECOND_STATUS', data = df2, palette='Set1')\n",
        "plt.title('SHOWING SUPPRESSION VS UNSUPPRESSION BASED ON REGIMEN AFTER ONE YEAR', color='r', font = 'bold', fontsize=20)"
      ]
    },
    {
      "cell_type": "code",
      "execution_count": null,
      "id": "6a3de6a2",
      "metadata": {
        "id": "6a3de6a2"
      },
      "outputs": [],
      "source": [
        "plt.figure(figsize = (20, 8))\n",
        "sns.countplot(x ='RegimenAtARTStart', data=df2,\n",
        "            hue=df2[['FIRST_STATUS', 'Sex']].apply(tuple, axis=1))\n",
        "plt.title('SHOWING SUPPRESSION VS UNSUPPRESSION BASED ON SEX AFTER ONE YEAR', color='r', font = 'bold', fontsize=20)"
      ]
    },
    {
      "cell_type": "code",
      "execution_count": null,
      "id": "17e0c7bb",
      "metadata": {
        "id": "17e0c7bb"
      },
      "outputs": [],
      "source": [
        "plt.figure(figsize = (20, 8))\n",
        "sns.countplot(x ='QTLD', data=df2,\n",
        "            hue=df2[['FIRST_STATUS', 'Sex']].apply(tuple, axis=1))\n",
        "plt.title('SHOWING SUPPRESSION VS UNSUPPRESSION BASED ON SEX AFTER 6 MONTHS ON TLD', color='r', font = 'bold', fontsize=20)"
      ]
    },
    {
      "cell_type": "code",
      "execution_count": null,
      "id": "833b0cfc",
      "metadata": {
        "id": "833b0cfc"
      },
      "outputs": [],
      "source": [
        "plt.figure(figsize = (20, 8))\n",
        "ab = sns.countplot(x ='QTLD', data=df2,\n",
        "            hue=df2[['SECOND_STATUS', 'Sex']].apply(tuple, axis=1))\n",
        "plt.title('SHOWING SUPPRESSION VS UNSUPPRESSION BASED ON SEX AFTER 6 MONTHS ON TLD', color='r', font = 'bold', fontsize=20)"
      ]
    },
    {
      "cell_type": "code",
      "execution_count": null,
      "id": "17b3b3ec",
      "metadata": {
        "id": "17b3b3ec"
      },
      "outputs": [],
      "source": [
        "plt.figure(figsize = (20, 8))\n",
        "sns.countplot(x ='RegimenAtARTStart', data=df2,\n",
        "            hue=df2[['Sex', 'SECOND_STATUS']].apply(tuple, axis=1), palette='Dark2')\n",
        "plt.title('SHOWING SUPPRESSION VS UNSUPPRESSION BASED ON SEX AFTER ONE YEAR', color='r', font = 'bold', fontsize=20)"
      ]
    },
    {
      "cell_type": "code",
      "execution_count": null,
      "id": "1f1eb77b",
      "metadata": {
        "id": "1f1eb77b"
      },
      "outputs": [],
      "source": [
        "sns.set(style=\"whitegrid\")\n",
        "plt.figure(figsize=(15,8))\n",
        "sns.countplot(x=\"RegimenAtARTStart\", hue=\"Sex\", data=df2)\n",
        "plt.title('REGIMEN AT START BASED ON SEX', fontsize=20)"
      ]
    },
    {
      "cell_type": "code",
      "execution_count": null,
      "id": "2c4015db",
      "metadata": {
        "id": "2c4015db"
      },
      "outputs": [],
      "source": [
        "plt.figure(figsize = (20, 8))\n",
        "sns.countplot(x ='CurAge_Years', data=df2,\n",
        "            hue=df2[['Sex', 'FIRST_STATUS']].apply(tuple, axis=1), palette='bright')\n",
        "plt.title('SHOWING SUPPRESSION VS UNSUPPRESSION BASED ON SEX & AGE AFTER ONE YEAR', color='r', fontsize=2)"
      ]
    },
    {
      "cell_type": "code",
      "execution_count": null,
      "id": "37a41809",
      "metadata": {
        "id": "37a41809"
      },
      "outputs": [],
      "source": [
        "plt.figure(figsize = (20, 8))\n",
        "af = sns.countplot(x ='CurAge_Years', data=df2,\n",
        "            hue=df2[['Sex', 'SECOND_STATUS']].apply(tuple, axis=1), palette='tab10')\n",
        "plt.title('SHOWING SUPPRESSION VS UNSUPPRESSION BASED ON SEX & AGE AFTER ONE YEAR', color='r', font = 'bold', fontsize=2)"
      ]
    },
    {
      "cell_type": "code",
      "execution_count": null,
      "id": "1dac4048",
      "metadata": {
        "id": "1dac4048"
      },
      "outputs": [],
      "source": [
        "df2.groupby(['Sex','SECOND_STATUS'])['RegimenAtARTStart'].count().plot(kind='bar')\n",
        "plt.title('SHOWING SUPPRESSION BASED ON SEX AFTER SIX MONTHS AND REMAINED AFTER ONE YEAR', color='r', \n",
        "          font = 'bold', fontsize=20)"
      ]
    },
    {
      "cell_type": "code",
      "execution_count": null,
      "id": "ac693b79",
      "metadata": {
        "id": "ac693b79"
      },
      "outputs": [],
      "source": [
        "# Using GroupBy multiple column\n",
        "df2.groupby(['FirstTLD_Pickup','FIRST_STATUS', \"Sex\"])['SECOND_STATUS'].describe()"
      ]
    },
    {
      "cell_type": "code",
      "execution_count": null,
      "id": "ace3d60a",
      "metadata": {
        "id": "ace3d60a"
      },
      "outputs": [],
      "source": [
        "# Using GroupBy multiple column\n",
        "df2.groupby(['FirstTLD_Pickup','SECOND_STATUS', 'Sex'])['Sex'].count()"
      ]
    },
    {
      "cell_type": "code",
      "execution_count": null,
      "id": "8bf29cd1",
      "metadata": {
        "id": "8bf29cd1"
      },
      "outputs": [],
      "source": [
        "# Using GroupBy multiple column\n",
        "df2.groupby(['RegimenAtARTStart','Sex', 'SECOND_STATUS'])['Sex'].count()"
      ]
    },
    {
      "cell_type": "code",
      "execution_count": null,
      "id": "e66d71ec",
      "metadata": {
        "id": "e66d71ec"
      },
      "outputs": [],
      "source": [
        "# Using GroupBy multiple column\n",
        "df2.groupby(['RegimenAtARTStart','Sex','SECOND_STATUS'])['Sex'].describe()"
      ]
    },
    {
      "cell_type": "code",
      "execution_count": null,
      "id": "cc1f23f7",
      "metadata": {
        "id": "cc1f23f7"
      },
      "outputs": [],
      "source": [
        "df2.groupby(['Sex', 'AgeGroup', 'FIRST_STATUS'])['FIRST_STATUS'].count()/len(df2)*100"
      ]
    },
    {
      "cell_type": "code",
      "execution_count": null,
      "id": "c8818268",
      "metadata": {
        "id": "c8818268"
      },
      "outputs": [],
      "source": [
        "# Using GroupBy multiple column\n",
        "df2.groupby(['RegimenAtARTStart','Sex', 'FIRST_STATUS'])['Sex'].describe()"
      ]
    },
    {
      "cell_type": "code",
      "execution_count": null,
      "id": "dd2db0bb",
      "metadata": {
        "id": "dd2db0bb"
      },
      "outputs": [],
      "source": [
        "df2.groupby(['FIRST_STATUS', \"Sex\", ])[\"Sex\"].describe()"
      ]
    },
    {
      "cell_type": "code",
      "execution_count": null,
      "id": "bf636c6f",
      "metadata": {
        "id": "bf636c6f"
      },
      "outputs": [],
      "source": [
        "df2.groupby(['SECOND_STATUS', \"Sex\"])[\"Sex\"].describe()"
      ]
    },
    {
      "cell_type": "code",
      "execution_count": null,
      "id": "44bfffa5",
      "metadata": {
        "id": "44bfffa5"
      },
      "outputs": [],
      "source": [
        "df2.groupby('FIRST_STATUS')[\"Sex\"].describe()"
      ]
    },
    {
      "cell_type": "code",
      "execution_count": null,
      "id": "64bf8423",
      "metadata": {
        "id": "64bf8423"
      },
      "outputs": [],
      "source": [
        "df2.groupby(df2['DateDiff']/len(df2)*100)['Sex'].size()"
      ]
    },
    {
      "cell_type": "code",
      "execution_count": null,
      "id": "a021e85f",
      "metadata": {
        "id": "a021e85f"
      },
      "outputs": [],
      "source": [
        "\n",
        "sns.lmplot(x=\"FSR\", y=\"SSR\", data=df2, fit_reg= True)\n",
        "plt.title(\"\")"
      ]
    },
    {
      "cell_type": "code",
      "execution_count": null,
      "id": "68e85f89",
      "metadata": {
        "id": "68e85f89"
      },
      "outputs": [],
      "source": [
        "sns.lmplot(x=\"SSR\", y=\"FSR\", data=df2, fit_reg= True)\n",
        "plt.title(\"Internet Use Rate and Breast Cancer Per 10\")"
      ]
    },
    {
      "cell_type": "code",
      "execution_count": null,
      "id": "dd0f6cd3",
      "metadata": {
        "id": "dd0f6cd3"
      },
      "outputs": [],
      "source": [
        "df2.groupby('FSR')[\"SSR\"].var()"
      ]
    },
    {
      "cell_type": "code",
      "execution_count": null,
      "id": "7805a7b6",
      "metadata": {
        "id": "7805a7b6"
      },
      "outputs": [],
      "source": [
        "df2.groupby(['RegimenAtARTStart','Sex','SECOND_STATUS'])['SSR'].describe()"
      ]
    },
    {
      "cell_type": "code",
      "execution_count": null,
      "id": "90f7977f",
      "metadata": {
        "id": "90f7977f"
      },
      "outputs": [],
      "source": [
        "df2.groupby(['SEXR'])['SSR'].var()"
      ]
    },
    {
      "cell_type": "code",
      "execution_count": null,
      "id": "551b08c5",
      "metadata": {
        "id": "551b08c5"
      },
      "outputs": [],
      "source": [
        "df2.groupby([ 'SSR'])['SEXR'].var()"
      ]
    },
    {
      "cell_type": "code",
      "execution_count": null,
      "id": "f5960571",
      "metadata": {
        "id": "f5960571"
      },
      "outputs": [],
      "source": [
        "df2.groupby(['FSR', 'SSR', 'SEXR', 'AGR']).describe()"
      ]
    },
    {
      "cell_type": "code",
      "execution_count": null,
      "id": "fd366651",
      "metadata": {
        "id": "fd366651"
      },
      "outputs": [],
      "source": [
        "df2.columns"
      ]
    },
    {
      "cell_type": "code",
      "execution_count": null,
      "id": "5f0422cb",
      "metadata": {
        "id": "5f0422cb"
      },
      "outputs": [],
      "source": [
        "df2.groupby(['FIRST_STATUS', 'SECOND_STATUS', 'AgeGroup', 'Sex']).corr()"
      ]
    },
    {
      "cell_type": "code",
      "execution_count": null,
      "id": "695c333f",
      "metadata": {
        "id": "695c333f"
      },
      "outputs": [],
      "source": [
        "df3.groupby(['FSR', 'SSR', 'SEXR', 'AGR']).max()"
      ]
    },
    {
      "cell_type": "code",
      "execution_count": null,
      "id": "b4cfb94c",
      "metadata": {
        "id": "b4cfb94c"
      },
      "outputs": [],
      "source": [
        "df3.groupby(['FSR', 'SSR', 'SEXR', 'AGR']).std()"
      ]
    },
    {
      "cell_type": "code",
      "execution_count": null,
      "id": "11dc5508",
      "metadata": {
        "id": "11dc5508"
      },
      "outputs": [],
      "source": [
        "df3.groupby(['FSR', 'SSR', 'SEXR', 'AGR']).mean()"
      ]
    },
    {
      "cell_type": "code",
      "execution_count": null,
      "id": "2872266f",
      "metadata": {
        "id": "2872266f"
      },
      "outputs": [],
      "source": [
        "df3.groupby(['FSR', 'SSR', 'SEXR', 'AGR']).min()"
      ]
    },
    {
      "cell_type": "code",
      "execution_count": null,
      "id": "473e2d8b",
      "metadata": {
        "id": "473e2d8b"
      },
      "outputs": [],
      "source": [
        "df3.describe()"
      ]
    },
    {
      "cell_type": "code",
      "execution_count": null,
      "id": "6d3d1ce2",
      "metadata": {
        "id": "6d3d1ce2"
      },
      "outputs": [],
      "source": [
        "df3.groupby(['FSR', 'SSR', 'SEXR', 'AGR']).describe()"
      ]
    },
    {
      "cell_type": "code",
      "execution_count": null,
      "id": "7947c72c",
      "metadata": {
        "id": "7947c72c"
      },
      "outputs": [],
      "source": [
        "df3.groupby(['FSR', 'SSR', 'SEXR', 'AGR']).var()"
      ]
    },
    {
      "cell_type": "code",
      "execution_count": null,
      "id": "c391f069",
      "metadata": {
        "id": "c391f069"
      },
      "outputs": [],
      "source": [
        "df3.groupby(['FSR', 'SSR', 'SEXR', 'AGR']).cov()"
      ]
    },
    {
      "cell_type": "code",
      "execution_count": null,
      "id": "f4865c0e",
      "metadata": {
        "id": "f4865c0e"
      },
      "outputs": [],
      "source": [
        "df3.groupby(['FSR', 'SSR', 'SEXR', 'AGR']).corr()"
      ]
    },
    {
      "cell_type": "code",
      "execution_count": null,
      "id": "5d9d0fdf",
      "metadata": {
        "id": "5d9d0fdf"
      },
      "outputs": [],
      "source": [
        "df3.groupby(['FSR', 'SSR', 'SEXR', 'AGR']).std()"
      ]
    },
    {
      "cell_type": "code",
      "execution_count": null,
      "id": "605d717e",
      "metadata": {
        "id": "605d717e"
      },
      "outputs": [],
      "source": [
        "df3.describe()"
      ]
    },
    {
      "cell_type": "code",
      "execution_count": null,
      "id": "836d01f8",
      "metadata": {
        "id": "836d01f8"
      },
      "outputs": [],
      "source": [
        "df3.sem()"
      ]
    },
    {
      "cell_type": "code",
      "execution_count": null,
      "id": "08934b2f",
      "metadata": {
        "id": "08934b2f"
      },
      "outputs": [],
      "source": [
        "df3.var()"
      ]
    },
    {
      "cell_type": "code",
      "execution_count": null,
      "id": "b8de4ba4",
      "metadata": {
        "id": "b8de4ba4"
      },
      "outputs": [],
      "source": [
        "plt.figure(figsize = (15,6))\n",
        "sns.set(style=\"darkgrid\")\n",
        "sns.regplot(x=df3.CurAge_Years, y=df3['FSR'], color='darkred')"
      ]
    },
    {
      "cell_type": "code",
      "execution_count": null,
      "id": "c627d72e",
      "metadata": {
        "id": "c627d72e"
      },
      "outputs": [],
      "source": [
        "plt.figure(figsize = (15,6))\n",
        "sns.set(style=\"darkgrid\")\n",
        "sns.regplot(y = df3.CurAge_Years, x = df3['SEXR'], color='darkred')"
      ]
    },
    {
      "cell_type": "code",
      "execution_count": null,
      "id": "ec51244e",
      "metadata": {
        "id": "ec51244e"
      },
      "outputs": [],
      "source": [
        "sns.heatmap(df3.cov(),linewidths=1, annot=True)\n",
        "plt.title('HEATMAP OF PERCENTAGE CHANGE OVER THE YEARS (%)', color='r')"
      ]
    },
    {
      "cell_type": "code",
      "execution_count": null,
      "id": "61acec78",
      "metadata": {
        "id": "61acec78"
      },
      "outputs": [],
      "source": [
        "sns.heatmap(df3[['FSR', 'SSR', 'SEXR', 'AGR']].cov(),annot=True)"
      ]
    },
    {
      "cell_type": "code",
      "execution_count": null,
      "id": "2b31af7d",
      "metadata": {
        "id": "2b31af7d"
      },
      "outputs": [],
      "source": [
        "sns.heatmap(df3[['FSR', 'SSR', 'SEXR', 'AGR']].corr(),annot=True)"
      ]
    },
    {
      "cell_type": "code",
      "execution_count": null,
      "id": "2f75b108",
      "metadata": {
        "id": "2f75b108"
      },
      "outputs": [],
      "source": [
        "sns.regplot(data = df2, y = 'SSR', x = 'CurAge_Years')\n"
      ]
    },
    {
      "cell_type": "code",
      "execution_count": null,
      "id": "14366c48",
      "metadata": {
        "id": "14366c48"
      },
      "outputs": [],
      "source": [
        "sns.regplot(data = df2, y = 'SEXR', x = 'CurAge_Years')"
      ]
    },
    {
      "cell_type": "code",
      "execution_count": null,
      "id": "3bfae624",
      "metadata": {
        "id": "3bfae624"
      },
      "outputs": [],
      "source": [
        "sns.regplot(data = df2, y = 'FSR', x = 'VL_30Jun2022')"
      ]
    },
    {
      "cell_type": "code",
      "execution_count": null,
      "id": "2ca1cc08",
      "metadata": {
        "id": "2ca1cc08"
      },
      "outputs": [],
      "source": [
        "sns.regplot(data = df2, y = 'SSR', x = 'VL_30Jun2022')"
      ]
    },
    {
      "cell_type": "code",
      "execution_count": null,
      "id": "b537d66d",
      "metadata": {
        "id": "b537d66d"
      },
      "outputs": [],
      "source": [
        "sns.regplot(data = df2, y = 'AGR', x = 'VL_30Jun2021')"
      ]
    },
    {
      "cell_type": "code",
      "execution_count": null,
      "id": "8350d8ac",
      "metadata": {
        "id": "8350d8ac"
      },
      "outputs": [],
      "source": [
        "df2"
      ]
    },
    {
      "cell_type": "code",
      "execution_count": null,
      "id": "b38ebdac",
      "metadata": {
        "id": "b38ebdac"
      },
      "outputs": [],
      "source": [
        "sns.regplot(data = df2, y = 'FSR', x = 'VL_30Jun2021')"
      ]
    },
    {
      "cell_type": "code",
      "execution_count": null,
      "id": "4cb80ec2",
      "metadata": {
        "id": "4cb80ec2"
      },
      "outputs": [],
      "source": [
        "sns.regplot(data = df2, y = 'FSR', x = 'VL_30Jun2022')"
      ]
    },
    {
      "cell_type": "code",
      "execution_count": null,
      "id": "f14e1ddf",
      "metadata": {
        "id": "f14e1ddf"
      },
      "outputs": [],
      "source": [
        "sns.pairplot(df2, hue=\"FSR\")"
      ]
    },
    {
      "cell_type": "code",
      "execution_count": null,
      "id": "a05290d7",
      "metadata": {
        "id": "a05290d7"
      },
      "outputs": [],
      "source": [
        "sns.pairplot(df3, hue=\"SSR\")"
      ]
    },
    {
      "cell_type": "code",
      "execution_count": null,
      "id": "97e4e4a4",
      "metadata": {
        "id": "97e4e4a4"
      },
      "outputs": [],
      "source": [
        "sns.pairplot(df2, vars=['CurAge_Years', 'VL_30Jun2021', 'VL_31Dec2021',\n",
        "       'VL_30Jun2022'], hue = 'FIRST_STATUS')"
      ]
    },
    {
      "cell_type": "code",
      "execution_count": null,
      "id": "b0ba7212",
      "metadata": {
        "id": "b0ba7212"
      },
      "outputs": [],
      "source": [
        "sns.pairplot(df2, vars=['CurAge_Years', 'VL_30Jun2021', 'VL_31Dec2021',\n",
        "       'VL_30Jun2022'], hue = 'SECOND_STATUS')"
      ]
    },
    {
      "cell_type": "code",
      "execution_count": null,
      "id": "fe536abe",
      "metadata": {
        "id": "fe536abe"
      },
      "outputs": [],
      "source": [
        "sns.pairplot(df2, vars=['CurAge_Years', 'VL_30Jun2021', 'VL_31Dec2021',\n",
        "       'VL_30Jun2022'], hue = 'Sex')"
      ]
    },
    {
      "cell_type": "code",
      "execution_count": null,
      "id": "1ea382e6",
      "metadata": {
        "id": "1ea382e6"
      },
      "outputs": [],
      "source": [
        "sns.pairplot(df2, vars=['CurAge_Years', 'VL_30Jun2021', 'VL_31Dec2021',\n",
        "       'VL_30Jun2022'], hue = 'AgeGroup')"
      ]
    },
    {
      "cell_type": "code",
      "execution_count": null,
      "id": "15a0bc79",
      "metadata": {
        "id": "15a0bc79"
      },
      "outputs": [],
      "source": [
        "sns.pairplot(df2, vars=['FSR', 'SSR', 'CurAge_Years', 'SEXR'], hue = 'Sex', diag_kind='hist')"
      ]
    },
    {
      "cell_type": "code",
      "execution_count": null,
      "id": "d9f8d9bf",
      "metadata": {
        "id": "d9f8d9bf"
      },
      "outputs": [],
      "source": [
        "sns.pairplot(df2, vars=['CurAge_Years', 'VL_30Jun2021', 'VL_31Dec2021',\n",
        "       'VL_30Jun2022'], hue = 'AgeGroup', diag_kind='hist')"
      ]
    },
    {
      "cell_type": "code",
      "execution_count": null,
      "id": "91e39b0b",
      "metadata": {
        "id": "91e39b0b"
      },
      "outputs": [],
      "source": [
        "sns.pairplot(df2, vars=['CurAge_Years', 'VL_30Jun2021', 'VL_31Dec2021',\n",
        "       'VL_30Jun2022'], hue = 'FIRST_STATUS')"
      ]
    },
    {
      "cell_type": "code",
      "execution_count": null,
      "id": "fa4be3dc",
      "metadata": {
        "id": "fa4be3dc"
      },
      "outputs": [],
      "source": [
        "df2.columns"
      ]
    },
    {
      "cell_type": "code",
      "execution_count": null,
      "id": "af97ee79",
      "metadata": {
        "id": "af97ee79"
      },
      "outputs": [],
      "source": [
        "df2[df2.FIRST_STATUS=='SUPPRESSED'][['Sex','AgeGroup']].agg('count')/len(df2)*100"
      ]
    },
    {
      "cell_type": "code",
      "execution_count": null,
      "id": "71c046d7",
      "metadata": {
        "id": "71c046d7"
      },
      "outputs": [],
      "source": [
        "sns.histplot(df2.DateofFirstTLD_Pickup,kde=True)"
      ]
    },
    {
      "cell_type": "code",
      "execution_count": null,
      "id": "9887f225",
      "metadata": {
        "id": "9887f225"
      },
      "outputs": [],
      "source": [
        "sns.histplot(df2.ARTStartDate,kde=True)"
      ]
    },
    {
      "cell_type": "code",
      "execution_count": null,
      "id": "5777f905",
      "metadata": {
        "id": "5777f905"
      },
      "outputs": [],
      "source": [
        "df3.corr()"
      ]
    },
    {
      "cell_type": "code",
      "execution_count": null,
      "id": "e7e8f296",
      "metadata": {
        "id": "e7e8f296"
      },
      "outputs": [],
      "source": [
        "sns.relplot(\n",
        "    data=df2,\n",
        "    x=\"CurAge_Years\", y='VL_30Jun2021',\n",
        "    hue=\"SECOND_STATUS\", style=\"SECOND_STATUS\"\n",
        ")"
      ]
    },
    {
      "cell_type": "code",
      "execution_count": null,
      "id": "dc1736ad",
      "metadata": {
        "id": "dc1736ad"
      },
      "outputs": [],
      "source": [
        "sns.relplot(\n",
        "    data=df2,\n",
        "    x=\"CurAge_Years\", y='VL_31Dec2021',\n",
        "    hue=\"SECOND_STATUS\", style=\"SECOND_STATUS\"\n",
        ")"
      ]
    },
    {
      "cell_type": "code",
      "execution_count": null,
      "id": "65e91708",
      "metadata": {
        "id": "65e91708"
      },
      "outputs": [],
      "source": [
        "sns.relplot(\n",
        "    data=df2,\n",
        "    x=\"CurAge_Years\", y='VL_30Jun2022',\n",
        "    hue=\"SECOND_STATUS\", style=\"SECOND_STATUS\",kind=\"line\",\n",
        "    facet_kws=dict(sharex=False))"
      ]
    },
    {
      "cell_type": "code",
      "execution_count": null,
      "id": "918f5276",
      "metadata": {
        "id": "918f5276"
      },
      "outputs": [],
      "source": [
        "sns.relplot(\n",
        "    data=df2,\n",
        "    x=\"CurAge_Years\", y='VL_30Jun2022',\n",
        "    hue=\"SECOND_STATUS\", style=\"SECOND_STATUS\",kind=\"line\",\n",
        "    facet_kws=dict(sharex=False))"
      ]
    },
    {
      "cell_type": "code",
      "execution_count": null,
      "id": "953f1b95",
      "metadata": {
        "id": "953f1b95"
      },
      "outputs": [],
      "source": [
        "sns.displot(data=df2, kind=\"ecdf\", x=\"VL_30Jun2022\", col=\"AGR\", hue=\"SECOND_STATUS\")\n"
      ]
    },
    {
      "cell_type": "code",
      "execution_count": null,
      "id": "c473507b",
      "metadata": {
        "id": "c473507b"
      },
      "outputs": [],
      "source": [
        "sns.displot(data=df2, kind=\"ecdf\", x=\"VL_30Jun2022\", col=\"SEXR\", hue=\"FIRST_STATUS\")\n"
      ]
    },
    {
      "cell_type": "code",
      "execution_count": null,
      "id": "be636391",
      "metadata": {
        "id": "be636391"
      },
      "outputs": [],
      "source": [
        "sns.catplot(data=df2, kind=\"swarm\", x=\"CurAge_Years\", y=\"SECOND_STATUS\", hue=\"Sex\")\n",
        "\n"
      ]
    },
    {
      "cell_type": "code",
      "execution_count": null,
      "id": "fc4be63c",
      "metadata": {
        "id": "fc4be63c"
      },
      "outputs": [],
      "source": [
        "sns.catplot(data=df2, kind=\"swarm\", y=\"CurAge_Years\", x=\"SECOND_STATUS\", hue=\"Sex\")\n",
        "\n"
      ]
    },
    {
      "cell_type": "code",
      "execution_count": null,
      "id": "27672256",
      "metadata": {
        "id": "27672256"
      },
      "outputs": [],
      "source": [
        "sns.catplot(data=df2, kind=\"swarm\", x=\"CurAge_Years\", y=\"Sex\", hue=\"FIRST_STATUS\")\n",
        "\n"
      ]
    },
    {
      "cell_type": "code",
      "execution_count": null,
      "id": "d5a6aaa0",
      "metadata": {
        "id": "d5a6aaa0"
      },
      "outputs": [],
      "source": [
        "sns.catplot(data=df2, kind=\"violin\", y=\"CurAge_Years\", x=\"Sex\", hue=\"FIRST_STATUS\", split=True)\n"
      ]
    },
    {
      "cell_type": "code",
      "source": [
        "sns.catplot(data=df2, kind=\"swarm\",y=\"CurAge_Years\", x=\"Sex\", hue=\"SECOND_STATUS\", split=True)\n"
      ],
      "metadata": {
        "id": "ykIuQydRNYbG"
      },
      "id": "ykIuQydRNYbG",
      "execution_count": null,
      "outputs": []
    },
    {
      "cell_type": "code",
      "source": [
        "sns.catplot(data=df2, kind=\"violin\", y=\"CurAge_Years\", x=\"Sex\", hue=\"FIRST_STATUS\")\n"
      ],
      "metadata": {
        "id": "jYoQmUD1KgPI"
      },
      "id": "jYoQmUD1KgPI",
      "execution_count": null,
      "outputs": []
    },
    {
      "cell_type": "code",
      "execution_count": null,
      "id": "4562f7c8",
      "metadata": {
        "id": "4562f7c8"
      },
      "outputs": [],
      "source": [
        "sns.jointplot(data=df2, x=\"CurAge_Years\", y=\"VL_30Jun2022\", hue=\"FIRST_STATUS\")\n"
      ]
    },
    {
      "cell_type": "code",
      "execution_count": null,
      "id": "d0535c8f",
      "metadata": {
        "id": "d0535c8f"
      },
      "outputs": [],
      "source": [
        "sns.kdeplot(data=df2, x=\"CurAge_Years\", hue=\"FIRST_STATUS\", multiple=\"stack\")\n"
      ]
    },
    {
      "cell_type": "code",
      "source": [
        "sns.kdeplot(data=df2, x=\"CurAge_Years\", hue=\"SECOND_STATUS\", multiple=\"stack\")\n"
      ],
      "metadata": {
        "id": "j3XMsyy0uE3j"
      },
      "id": "j3XMsyy0uE3j",
      "execution_count": null,
      "outputs": []
    },
    {
      "cell_type": "code",
      "execution_count": null,
      "id": "9a71053a",
      "metadata": {
        "id": "9a71053a"
      },
      "outputs": [],
      "source": [
        "sns.displot(data=df2, x=\"Sex\", hue=\"FIRST_STATUS\", col=\"SECOND_STATUS\")\n"
      ]
    },
    {
      "cell_type": "code",
      "execution_count": null,
      "id": "8080000d",
      "metadata": {
        "id": "8080000d"
      },
      "outputs": [],
      "source": [
        "sns.displot(data=df2, col=\"Sex\", hue=\"FIRST_STATUS\", x=\"SECOND_STATUS\")\n"
      ]
    },
    {
      "cell_type": "code",
      "execution_count": null,
      "id": "64b804c8",
      "metadata": {
        "id": "64b804c8"
      },
      "outputs": [],
      "source": [
        "sns.displot(data=df2, hue=\"Sex\", col=\"FIRST_STATUS\", x=\"SECOND_STATUS\")"
      ]
    },
    {
      "cell_type": "code",
      "source": [
        "df3"
      ],
      "metadata": {
        "id": "1hKUuRsj3O_R"
      },
      "id": "1hKUuRsj3O_R",
      "execution_count": null,
      "outputs": []
    },
    {
      "cell_type": "code",
      "source": [
        "import statsmodels.api as sm\n",
        "\n",
        "#define response variable\n",
        "y = df3['FSR']\n",
        "\n",
        "#define predictor variables\n",
        "x = df3[['AGR', 'SEXR', 'CurAge_Years' ]]\n",
        "\n",
        "#add constant to predictor variables\n",
        "x = sm.add_constant(x)\n",
        "\n",
        "#fitting the regression model\n",
        "model = sm.OLS(y, x).fit()\n",
        "\n",
        "#view model summary\n",
        "print(model.summary())"
      ],
      "metadata": {
        "id": "H0jC32LE5fs2"
      },
      "id": "H0jC32LE5fs2",
      "execution_count": null,
      "outputs": []
    },
    {
      "cell_type": "code",
      "source": [
        "#define response variable\n",
        "y = df4['SSR']\n",
        "\n",
        "#define predictor variables\n",
        "x = df4[['AGR', 'SEXR', 'CurAge_Years' ]]\n",
        "\n",
        "#add constant to predictor variables\n",
        "x = sm.add_constant(x)\n",
        "\n",
        "#fitting the regression model\n",
        "model = sm.OLS(y, x).fit()\n",
        "\n",
        "#view model summary\n",
        "print(model.summary())"
      ],
      "metadata": {
        "id": "UoQ_EYrB6ki5"
      },
      "id": "UoQ_EYrB6ki5",
      "execution_count": null,
      "outputs": []
    },
    {
      "cell_type": "markdown",
      "source": [
        "R-squared: 0.005. This is known as the coefficient of determination. It is the proportion of the variance in the response variable that can be explained by the predictor variables. In this example, 5% of the variation in the First viral load can be explained by the Age, Sex, and age group\n"
      ],
      "metadata": {
        "id": "ccWqbRcH6V0e"
      },
      "id": "ccWqbRcH6V0e"
    },
    {
      "cell_type": "markdown",
      "source": [],
      "metadata": {
        "id": "ig8eHnvc74rC"
      },
      "id": "ig8eHnvc74rC"
    },
    {
      "cell_type": "markdown",
      "source": [
        "F-statistic: 1.43. This is the overall F-statistic for the regression model.\n",
        "\n",
        "Prob (F-statistic): 0.232. This is the p-value associated with the overall F-statistic.  It tells us whether or not the regression model as a whole is statistically significant. In other words, it tells us if the predictor variables combined have a statistically significant association with the response variable. In this case the p-value is greater than 0.05, which indicates that the predictor variables  'Age', 'Sex', and 'age group' combined does not have a statistically significant association with the first viral load."
      ],
      "metadata": {
        "id": "P3Anu4aU6xxt"
      },
      "id": "P3Anu4aU6xxt"
    },
    {
      "cell_type": "markdown",
      "source": [
        "coef: The coefficients for each predictor variable tell us the average expected change in the response variable, assuming the other predictor variable remains constant. For example, the younger the age group, the more it is to achieve viral suppression assuming all other factors remain constant, so also, suppression is more likely in female than in males.."
      ],
      "metadata": {
        "id": "d8EFDx4T8BX2"
      },
      "id": "d8EFDx4T8BX2"
    },
    {
      "cell_type": "markdown",
      "source": [],
      "metadata": {
        "id": "MmGHgm1K8-lR"
      },
      "id": "MmGHgm1K8-lR"
    },
    {
      "cell_type": "markdown",
      "source": [
        "P>|t|. The individual p-values tell us whether or not each predictor variable is statistically significant. We can see that all our variables are not statistically significant. Since they are not statistically significant."
      ],
      "metadata": {
        "id": "vybSp2LD9jmz"
      },
      "id": "vybSp2LD9jmz"
    },
    {
      "cell_type": "code",
      "source": [
        "# from statsmodels.formula.api import ols\n",
        "\n",
        "# #fit simple linear regression model\n",
        "# model = ols('FSR ~ AGR', data=df2).fit()\n",
        "\n",
        "# #view model summary\n",
        "# print(model.summary())"
      ],
      "metadata": {
        "id": "KonP_F8N_Asa"
      },
      "id": "KonP_F8N_Asa",
      "execution_count": null,
      "outputs": []
    },
    {
      "cell_type": "code",
      "source": [
        "# xs = ('AGR', 'SEXR', 'CurAge_Years')\n",
        "# for x in xs:\n",
        "#     model = ols('SSR~ xs', data = df4).fit() #Oridnary least square method\n",
        "#     result_anova = sm.stats.anova_lm(model) # ANOVA Test\n",
        "#     print(result_anova)\n",
        "\n",
        "    \n",
        "#define response variable\n",
        "y = df3['FSR']\n",
        "\n",
        "#define predictor variables\n",
        "x = df3[['AGR', 'SEXR', 'CurAge_Years' ]]\n",
        "\n",
        "#add constant to predictor variables\n",
        "x = sm.add_constant(x)\n",
        "\n",
        "model = ols(x, y).fit()\n",
        "\n",
        "result_anova = sm.stats.anova_lm(model) # ANOVA Test\n",
        "print(result_anova)\n",
        "   "
      ],
      "metadata": {
        "id": "uspkVF29FCO2"
      },
      "id": "uspkVF29FCO2",
      "execution_count": null,
      "outputs": []
    },
    {
      "cell_type": "code",
      "source": [
        "#define figure size\n",
        "fig = plt.figure(figsize=(12,8))\n",
        "\n",
        "#produce regression plots\n",
        "fig = sm.graphics.plot_regress_exog(model, 'AGR', fig=fig)\n"
      ],
      "metadata": {
        "id": "gkdrRPWS_Vom"
      },
      "id": "gkdrRPWS_Vom",
      "execution_count": null,
      "outputs": []
    },
    {
      "cell_type": "code",
      "source": [
        "#define figure size\n",
        "fig = plt.figure(figsize=(12,8))\n",
        "\n",
        "#produce regression plots\n",
        "fig = sm.graphics.plot_regress_exog(model, 'SEXR', fig=fig)\n"
      ],
      "metadata": {
        "id": "Rva1KdyZ_2AB"
      },
      "id": "Rva1KdyZ_2AB",
      "execution_count": null,
      "outputs": []
    },
    {
      "cell_type": "code",
      "source": [
        "#define figure size\n",
        "fig = plt.figure(figsize=(12,8))\n",
        "\n",
        "#produce regression plots\n",
        "fig = sm.graphics.plot_regress_exog(model, 'CurAge_Years', fig=fig)\n"
      ],
      "metadata": {
        "id": "aCOA4CRG7X9w"
      },
      "id": "aCOA4CRG7X9w",
      "execution_count": null,
      "outputs": []
    },
    {
      "cell_type": "code",
      "source": [
        "x2 = df3.iloc[:, :-1].values  #extracts features from the dataset\n",
        "y2 = df3.iloc[:, -1].values  #extracts the labels from the dataset\n"
      ],
      "metadata": {
        "id": "dD4cCMXaMFPt"
      },
      "id": "dD4cCMXaMFPt",
      "execution_count": null,
      "outputs": []
    },
    {
      "cell_type": "code",
      "source": [
        "from sklearn.linear_model import LinearRegression # import the Linear Regression model\n",
        "lin_reg = LinearRegression() # creat model object\n",
        "lin_reg.fit(x2, y2) # fits the model to the training data"
      ],
      "metadata": {
        "id": "UCsbp8iWY_QY"
      },
      "id": "UCsbp8iWY_QY",
      "execution_count": null,
      "outputs": []
    },
    {
      "cell_type": "code",
      "source": [
        "lin_reg.predict([[1,0,8]])"
      ],
      "metadata": {
        "id": "_T6X4kcq_aoi"
      },
      "id": "_T6X4kcq_aoi",
      "execution_count": null,
      "outputs": []
    },
    {
      "cell_type": "code",
      "source": [
        "#define figure size\n",
        "fig = plt.figure(figsize=(12,8))\n",
        "\n",
        "#produce regression plots\n",
        "fig = sm.graphics.plot_regress_exog(model, 'CurAge_Years', fig=fig)\n",
        "\n"
      ],
      "metadata": {
        "id": "ch1TS9K79_na"
      },
      "id": "ch1TS9K79_na",
      "execution_count": null,
      "outputs": []
    },
    {
      "cell_type": "code",
      "source": [
        "from sklearn.preprocessing import PolynomialFeatures # importing a class for Polynomial Regression\n",
        "poly_regr = PolynomialFeatures(degree = 4) # our polynomial model is of order\n",
        "X_poly = poly_regr.fit_transform(x) # transforms the features to the polynomial form\n",
        "lin_reg_2 = LinearRegression() # creates a linear regression object\n",
        "lin_reg_2.fit(X_poly, y)"
      ],
      "metadata": {
        "id": "iWSqMYIgaCCO"
      },
      "id": "iWSqMYIgaCCO",
      "execution_count": null,
      "outputs": []
    },
    {
      "cell_type": "code",
      "source": [
        "lin_reg_2.predict(X_poly.fit_transform([[1,1,7]]))"
      ],
      "metadata": {
        "id": "NH97VhfwDKde"
      },
      "id": "NH97VhfwDKde",
      "execution_count": null,
      "outputs": []
    }
  ],
  "metadata": {
    "kernelspec": {
      "display_name": "Python 3 (ipykernel)",
      "language": "python",
      "name": "python3"
    },
    "language_info": {
      "codemirror_mode": {
        "name": "ipython",
        "version": 3
      },
      "file_extension": ".py",
      "mimetype": "text/x-python",
      "name": "python",
      "nbconvert_exporter": "python",
      "pygments_lexer": "ipython3",
      "version": "3.9.12"
    },
    "colab": {
      "provenance": [],
      "collapsed_sections": [],
      "include_colab_link": true
    }
  },
  "nbformat": 4,
  "nbformat_minor": 5
}