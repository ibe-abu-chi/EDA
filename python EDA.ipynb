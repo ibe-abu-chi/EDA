{
 "cells": [
  {
   "cell_type": "code",
   "execution_count": 93,
   "id": "7766a4dc",
   "metadata": {},
   "outputs": [],
   "source": [
    "#importing all libraries and data needed for this exercise\n",
    "import pandas as pd\n",
    "import seaborn as sns\n",
    "import numpy as np\n",
    "from matplotlib import pyplot as plt\n",
    "car_data = pd.read_csv('car_scrape.csv')"
   ]
  },
  {
   "cell_type": "code",
   "execution_count": 94,
   "id": "9fe58289",
   "metadata": {},
   "outputs": [
    {
     "data": {
      "text/html": [
       "<div>\n",
       "<style scoped>\n",
       "    .dataframe tbody tr th:only-of-type {\n",
       "        vertical-align: middle;\n",
       "    }\n",
       "\n",
       "    .dataframe tbody tr th {\n",
       "        vertical-align: top;\n",
       "    }\n",
       "\n",
       "    .dataframe thead th {\n",
       "        text-align: right;\n",
       "    }\n",
       "</style>\n",
       "<table border=\"1\" class=\"dataframe\">\n",
       "  <thead>\n",
       "    <tr style=\"text-align: right;\">\n",
       "      <th></th>\n",
       "      <th>title</th>\n",
       "      <th>odometer</th>\n",
       "      <th>location</th>\n",
       "      <th>isimported</th>\n",
       "      <th>engine</th>\n",
       "      <th>transmission</th>\n",
       "      <th>fuel</th>\n",
       "      <th>paint</th>\n",
       "      <th>price</th>\n",
       "      <th>year</th>\n",
       "    </tr>\n",
       "  </thead>\n",
       "  <tbody>\n",
       "    <tr>\n",
       "      <th>0</th>\n",
       "      <td>Toyota Corolla</td>\n",
       "      <td>60127</td>\n",
       "      <td>Lagos</td>\n",
       "      <td>Locally used</td>\n",
       "      <td>4-cylinder(I4)</td>\n",
       "      <td>automatic</td>\n",
       "      <td>petrol</td>\n",
       "      <td>Silver</td>\n",
       "      <td>1995000</td>\n",
       "      <td>2009</td>\n",
       "    </tr>\n",
       "    <tr>\n",
       "      <th>1</th>\n",
       "      <td>Acura MDX</td>\n",
       "      <td>132908</td>\n",
       "      <td>Lagos</td>\n",
       "      <td>Foreign Used</td>\n",
       "      <td>6-cylinder(V6)</td>\n",
       "      <td>automatic</td>\n",
       "      <td>petrol</td>\n",
       "      <td>Whine</td>\n",
       "      <td>3315000</td>\n",
       "      <td>2009</td>\n",
       "    </tr>\n",
       "    <tr>\n",
       "      <th>2</th>\n",
       "      <td>Lexus ES 350</td>\n",
       "      <td>120412</td>\n",
       "      <td>Lagos</td>\n",
       "      <td>Locally used</td>\n",
       "      <td>6-cylinder(V6)</td>\n",
       "      <td>automatic</td>\n",
       "      <td>petrol</td>\n",
       "      <td>Silver</td>\n",
       "      <td>2655000</td>\n",
       "      <td>2008</td>\n",
       "    </tr>\n",
       "    <tr>\n",
       "      <th>3</th>\n",
       "      <td>Mercedes-Benz GLK 350</td>\n",
       "      <td>67640</td>\n",
       "      <td>Lagos</td>\n",
       "      <td>Foreign Used</td>\n",
       "      <td>4-cylinder(I4)</td>\n",
       "      <td>automatic</td>\n",
       "      <td>petrol</td>\n",
       "      <td>Black</td>\n",
       "      <td>9015000</td>\n",
       "      <td>2013</td>\n",
       "    </tr>\n",
       "    <tr>\n",
       "      <th>4</th>\n",
       "      <td>Mercedes-Benz E 200</td>\n",
       "      <td>92440</td>\n",
       "      <td>Abuja</td>\n",
       "      <td>Foreign Used</td>\n",
       "      <td>4-cylinder(I4)</td>\n",
       "      <td>automatic</td>\n",
       "      <td>petrol</td>\n",
       "      <td>Black</td>\n",
       "      <td>5790000</td>\n",
       "      <td>2013</td>\n",
       "    </tr>\n",
       "  </tbody>\n",
       "</table>\n",
       "</div>"
      ],
      "text/plain": [
       "                   title  odometer location    isimported          engine  \\\n",
       "0         Toyota Corolla     60127    Lagos  Locally used  4-cylinder(I4)   \n",
       "1              Acura MDX    132908    Lagos  Foreign Used  6-cylinder(V6)   \n",
       "2           Lexus ES 350    120412    Lagos  Locally used  6-cylinder(V6)   \n",
       "3  Mercedes-Benz GLK 350     67640    Lagos  Foreign Used  4-cylinder(I4)   \n",
       "4    Mercedes-Benz E 200     92440    Abuja  Foreign Used  4-cylinder(I4)   \n",
       "\n",
       "  transmission    fuel   paint    price  year  \n",
       "0    automatic  petrol  Silver  1995000  2009  \n",
       "1    automatic  petrol  Whine   3315000  2009  \n",
       "2    automatic  petrol  Silver  2655000  2008  \n",
       "3    automatic  petrol   Black  9015000  2013  \n",
       "4    automatic  petrol   Black  5790000  2013  "
      ]
     },
     "execution_count": 94,
     "metadata": {},
     "output_type": "execute_result"
    }
   ],
   "source": [
    "car_data.head() #this is showing the top 5 records of the dataset imported"
   ]
  },
  {
   "cell_type": "code",
   "execution_count": 95,
   "id": "298c7db3",
   "metadata": {},
   "outputs": [
    {
     "data": {
      "text/html": [
       "<div>\n",
       "<style scoped>\n",
       "    .dataframe tbody tr th:only-of-type {\n",
       "        vertical-align: middle;\n",
       "    }\n",
       "\n",
       "    .dataframe tbody tr th {\n",
       "        vertical-align: top;\n",
       "    }\n",
       "\n",
       "    .dataframe thead th {\n",
       "        text-align: right;\n",
       "    }\n",
       "</style>\n",
       "<table border=\"1\" class=\"dataframe\">\n",
       "  <thead>\n",
       "    <tr style=\"text-align: right;\">\n",
       "      <th></th>\n",
       "      <th>title</th>\n",
       "      <th>odometer</th>\n",
       "      <th>location</th>\n",
       "      <th>isimported</th>\n",
       "      <th>engine</th>\n",
       "      <th>transmission</th>\n",
       "      <th>fuel</th>\n",
       "      <th>paint</th>\n",
       "      <th>price</th>\n",
       "      <th>year</th>\n",
       "    </tr>\n",
       "  </thead>\n",
       "  <tbody>\n",
       "    <tr>\n",
       "      <th>0</th>\n",
       "      <td>Toyota Corolla</td>\n",
       "      <td>60127</td>\n",
       "      <td>Lagos</td>\n",
       "      <td>Locally used</td>\n",
       "      <td>4-cylinder(I4)</td>\n",
       "      <td>automatic</td>\n",
       "      <td>petrol</td>\n",
       "      <td>Silver</td>\n",
       "      <td>1995000</td>\n",
       "      <td>2009</td>\n",
       "    </tr>\n",
       "    <tr>\n",
       "      <th>1</th>\n",
       "      <td>Acura MDX</td>\n",
       "      <td>132908</td>\n",
       "      <td>Lagos</td>\n",
       "      <td>Foreign Used</td>\n",
       "      <td>6-cylinder(V6)</td>\n",
       "      <td>automatic</td>\n",
       "      <td>petrol</td>\n",
       "      <td>Whine</td>\n",
       "      <td>3315000</td>\n",
       "      <td>2009</td>\n",
       "    </tr>\n",
       "    <tr>\n",
       "      <th>2</th>\n",
       "      <td>Lexus ES 350</td>\n",
       "      <td>120412</td>\n",
       "      <td>Lagos</td>\n",
       "      <td>Locally used</td>\n",
       "      <td>6-cylinder(V6)</td>\n",
       "      <td>automatic</td>\n",
       "      <td>petrol</td>\n",
       "      <td>Silver</td>\n",
       "      <td>2655000</td>\n",
       "      <td>2008</td>\n",
       "    </tr>\n",
       "    <tr>\n",
       "      <th>3</th>\n",
       "      <td>Mercedes-Benz GLK 350</td>\n",
       "      <td>67640</td>\n",
       "      <td>Lagos</td>\n",
       "      <td>Foreign Used</td>\n",
       "      <td>4-cylinder(I4)</td>\n",
       "      <td>automatic</td>\n",
       "      <td>petrol</td>\n",
       "      <td>Black</td>\n",
       "      <td>9015000</td>\n",
       "      <td>2013</td>\n",
       "    </tr>\n",
       "    <tr>\n",
       "      <th>4</th>\n",
       "      <td>Mercedes-Benz E 200</td>\n",
       "      <td>92440</td>\n",
       "      <td>Abuja</td>\n",
       "      <td>Foreign Used</td>\n",
       "      <td>4-cylinder(I4)</td>\n",
       "      <td>automatic</td>\n",
       "      <td>petrol</td>\n",
       "      <td>Black</td>\n",
       "      <td>5790000</td>\n",
       "      <td>2013</td>\n",
       "    </tr>\n",
       "    <tr>\n",
       "      <th>...</th>\n",
       "      <td>...</td>\n",
       "      <td>...</td>\n",
       "      <td>...</td>\n",
       "      <td>...</td>\n",
       "      <td>...</td>\n",
       "      <td>...</td>\n",
       "      <td>...</td>\n",
       "      <td>...</td>\n",
       "      <td>...</td>\n",
       "      <td>...</td>\n",
       "    </tr>\n",
       "    <tr>\n",
       "      <th>1446</th>\n",
       "      <td>Lexus ES 300</td>\n",
       "      <td>89539</td>\n",
       "      <td>Lagos</td>\n",
       "      <td>Foreign Used</td>\n",
       "      <td>6-cylinder(V6)</td>\n",
       "      <td>automatic</td>\n",
       "      <td>petrol</td>\n",
       "      <td>White</td>\n",
       "      <td>2765000</td>\n",
       "      <td>2003</td>\n",
       "    </tr>\n",
       "    <tr>\n",
       "      <th>1447</th>\n",
       "      <td>Honda Accord</td>\n",
       "      <td>177235</td>\n",
       "      <td>Lagos</td>\n",
       "      <td>Locally used</td>\n",
       "      <td>4-cylinder(I4)</td>\n",
       "      <td>automatic</td>\n",
       "      <td>petrol</td>\n",
       "      <td>Dark Blue</td>\n",
       "      <td>665000</td>\n",
       "      <td>2004</td>\n",
       "    </tr>\n",
       "    <tr>\n",
       "      <th>1448</th>\n",
       "      <td>Honda Ridgeline</td>\n",
       "      <td>87064</td>\n",
       "      <td>Abuja</td>\n",
       "      <td>Foreign Used</td>\n",
       "      <td>6-cylinder(V6)</td>\n",
       "      <td>automatic</td>\n",
       "      <td>petrol</td>\n",
       "      <td>White</td>\n",
       "      <td>15240000</td>\n",
       "      <td>2017</td>\n",
       "    </tr>\n",
       "    <tr>\n",
       "      <th>1449</th>\n",
       "      <td>Toyota Sienna</td>\n",
       "      <td>82540</td>\n",
       "      <td>Lagos</td>\n",
       "      <td>Foreign Used</td>\n",
       "      <td>6-cylinder(I6)</td>\n",
       "      <td>automatic</td>\n",
       "      <td>petrol</td>\n",
       "      <td>Red</td>\n",
       "      <td>2955000</td>\n",
       "      <td>2007</td>\n",
       "    </tr>\n",
       "    <tr>\n",
       "      <th>1450</th>\n",
       "      <td>Toyota Sienna</td>\n",
       "      <td>134183</td>\n",
       "      <td>Lagos</td>\n",
       "      <td>Foreign Used</td>\n",
       "      <td>6-cylinder(V6)</td>\n",
       "      <td>automatic</td>\n",
       "      <td>petrol</td>\n",
       "      <td>Silver</td>\n",
       "      <td>2655000</td>\n",
       "      <td>2005</td>\n",
       "    </tr>\n",
       "  </tbody>\n",
       "</table>\n",
       "<p>1451 rows × 10 columns</p>\n",
       "</div>"
      ],
      "text/plain": [
       "                      title  odometer location    isimported          engine  \\\n",
       "0            Toyota Corolla     60127    Lagos  Locally used  4-cylinder(I4)   \n",
       "1                 Acura MDX    132908    Lagos  Foreign Used  6-cylinder(V6)   \n",
       "2              Lexus ES 350    120412    Lagos  Locally used  6-cylinder(V6)   \n",
       "3     Mercedes-Benz GLK 350     67640    Lagos  Foreign Used  4-cylinder(I4)   \n",
       "4       Mercedes-Benz E 200     92440    Abuja  Foreign Used  4-cylinder(I4)   \n",
       "...                     ...       ...      ...           ...             ...   \n",
       "1446           Lexus ES 300     89539    Lagos  Foreign Used  6-cylinder(V6)   \n",
       "1447           Honda Accord    177235    Lagos  Locally used  4-cylinder(I4)   \n",
       "1448        Honda Ridgeline     87064    Abuja  Foreign Used  6-cylinder(V6)   \n",
       "1449          Toyota Sienna     82540    Lagos  Foreign Used  6-cylinder(I6)   \n",
       "1450          Toyota Sienna    134183    Lagos  Foreign Used  6-cylinder(V6)   \n",
       "\n",
       "     transmission    fuel      paint     price  year  \n",
       "0       automatic  petrol     Silver   1995000  2009  \n",
       "1       automatic  petrol     Whine    3315000  2009  \n",
       "2       automatic  petrol     Silver   2655000  2008  \n",
       "3       automatic  petrol      Black   9015000  2013  \n",
       "4       automatic  petrol      Black   5790000  2013  \n",
       "...           ...     ...        ...       ...   ...  \n",
       "1446    automatic  petrol      White   2765000  2003  \n",
       "1447    automatic  petrol  Dark Blue    665000  2004  \n",
       "1448    automatic  petrol      White  15240000  2017  \n",
       "1449    automatic  petrol        Red   2955000  2007  \n",
       "1450    automatic  petrol     Silver   2655000  2005  \n",
       "\n",
       "[1451 rows x 10 columns]"
      ]
     },
     "execution_count": 95,
     "metadata": {},
     "output_type": "execute_result"
    }
   ],
   "source": [
    "car_data #selects all"
   ]
  },
  {
   "cell_type": "code",
   "execution_count": 96,
   "id": "32f0c3d6",
   "metadata": {},
   "outputs": [],
   "source": [
    "task4 = car_data.rename(columns={'isimported' :'origin', 'odometer' : 'mileage'}, inplace=True)"
   ]
  },
  {
   "cell_type": "code",
   "execution_count": 97,
   "id": "453a562f",
   "metadata": {},
   "outputs": [
    {
     "data": {
      "text/plain": [
       "0              Toyota Corolla\n",
       "1                   Acura MDX\n",
       "2                Lexus ES 350\n",
       "3       Mercedes-Benz GLK 350\n",
       "4         Mercedes-Benz E 200\n",
       "                ...          \n",
       "1446             Lexus ES 300\n",
       "1447             Honda Accord\n",
       "1448          Honda Ridgeline\n",
       "1449            Toyota Sienna\n",
       "1450            Toyota Sienna\n",
       "Name: title, Length: 1451, dtype: object"
      ]
     },
     "execution_count": 97,
     "metadata": {},
     "output_type": "execute_result"
    }
   ],
   "source": [
    "car_data['title'] #selects only one column in the dataset"
   ]
  },
  {
   "cell_type": "code",
   "execution_count": 98,
   "id": "865a0240",
   "metadata": {},
   "outputs": [],
   "source": [
    "PEM = car_data[['price', 'engine', 'mileage']]\n",
    "\n",
    "#select 2 or more columns"
   ]
  },
  {
   "cell_type": "code",
   "execution_count": 99,
   "id": "3661e219",
   "metadata": {},
   "outputs": [
    {
     "data": {
      "text/html": [
       "<div>\n",
       "<style scoped>\n",
       "    .dataframe tbody tr th:only-of-type {\n",
       "        vertical-align: middle;\n",
       "    }\n",
       "\n",
       "    .dataframe tbody tr th {\n",
       "        vertical-align: top;\n",
       "    }\n",
       "\n",
       "    .dataframe thead th {\n",
       "        text-align: right;\n",
       "    }\n",
       "</style>\n",
       "<table border=\"1\" class=\"dataframe\">\n",
       "  <thead>\n",
       "    <tr style=\"text-align: right;\">\n",
       "      <th></th>\n",
       "      <th>price</th>\n",
       "      <th>engine</th>\n",
       "      <th>mileage</th>\n",
       "    </tr>\n",
       "  </thead>\n",
       "  <tbody>\n",
       "    <tr>\n",
       "      <th>0</th>\n",
       "      <td>1995000</td>\n",
       "      <td>4-cylinder(I4)</td>\n",
       "      <td>60127</td>\n",
       "    </tr>\n",
       "    <tr>\n",
       "      <th>1</th>\n",
       "      <td>3315000</td>\n",
       "      <td>6-cylinder(V6)</td>\n",
       "      <td>132908</td>\n",
       "    </tr>\n",
       "    <tr>\n",
       "      <th>2</th>\n",
       "      <td>2655000</td>\n",
       "      <td>6-cylinder(V6)</td>\n",
       "      <td>120412</td>\n",
       "    </tr>\n",
       "    <tr>\n",
       "      <th>3</th>\n",
       "      <td>9015000</td>\n",
       "      <td>4-cylinder(I4)</td>\n",
       "      <td>67640</td>\n",
       "    </tr>\n",
       "    <tr>\n",
       "      <th>4</th>\n",
       "      <td>5790000</td>\n",
       "      <td>4-cylinder(I4)</td>\n",
       "      <td>92440</td>\n",
       "    </tr>\n",
       "    <tr>\n",
       "      <th>...</th>\n",
       "      <td>...</td>\n",
       "      <td>...</td>\n",
       "      <td>...</td>\n",
       "    </tr>\n",
       "    <tr>\n",
       "      <th>1446</th>\n",
       "      <td>2765000</td>\n",
       "      <td>6-cylinder(V6)</td>\n",
       "      <td>89539</td>\n",
       "    </tr>\n",
       "    <tr>\n",
       "      <th>1447</th>\n",
       "      <td>665000</td>\n",
       "      <td>4-cylinder(I4)</td>\n",
       "      <td>177235</td>\n",
       "    </tr>\n",
       "    <tr>\n",
       "      <th>1448</th>\n",
       "      <td>15240000</td>\n",
       "      <td>6-cylinder(V6)</td>\n",
       "      <td>87064</td>\n",
       "    </tr>\n",
       "    <tr>\n",
       "      <th>1449</th>\n",
       "      <td>2955000</td>\n",
       "      <td>6-cylinder(I6)</td>\n",
       "      <td>82540</td>\n",
       "    </tr>\n",
       "    <tr>\n",
       "      <th>1450</th>\n",
       "      <td>2655000</td>\n",
       "      <td>6-cylinder(V6)</td>\n",
       "      <td>134183</td>\n",
       "    </tr>\n",
       "  </tbody>\n",
       "</table>\n",
       "<p>1451 rows × 3 columns</p>\n",
       "</div>"
      ],
      "text/plain": [
       "         price          engine  mileage\n",
       "0      1995000  4-cylinder(I4)    60127\n",
       "1      3315000  6-cylinder(V6)   132908\n",
       "2      2655000  6-cylinder(V6)   120412\n",
       "3      9015000  4-cylinder(I4)    67640\n",
       "4      5790000  4-cylinder(I4)    92440\n",
       "...        ...             ...      ...\n",
       "1446   2765000  6-cylinder(V6)    89539\n",
       "1447    665000  4-cylinder(I4)   177235\n",
       "1448  15240000  6-cylinder(V6)    87064\n",
       "1449   2955000  6-cylinder(I6)    82540\n",
       "1450   2655000  6-cylinder(V6)   134183\n",
       "\n",
       "[1451 rows x 3 columns]"
      ]
     },
     "execution_count": 99,
     "metadata": {},
     "output_type": "execute_result"
    }
   ],
   "source": [
    "PEM"
   ]
  },
  {
   "cell_type": "code",
   "execution_count": 100,
   "id": "d03e922c",
   "metadata": {},
   "outputs": [
    {
     "data": {
      "text/html": [
       "<div>\n",
       "<style scoped>\n",
       "    .dataframe tbody tr th:only-of-type {\n",
       "        vertical-align: middle;\n",
       "    }\n",
       "\n",
       "    .dataframe tbody tr th {\n",
       "        vertical-align: top;\n",
       "    }\n",
       "\n",
       "    .dataframe thead th {\n",
       "        text-align: right;\n",
       "    }\n",
       "</style>\n",
       "<table border=\"1\" class=\"dataframe\">\n",
       "  <thead>\n",
       "    <tr style=\"text-align: right;\">\n",
       "      <th></th>\n",
       "      <th>title</th>\n",
       "      <th>mileage</th>\n",
       "      <th>location</th>\n",
       "      <th>origin</th>\n",
       "      <th>engine</th>\n",
       "      <th>transmission</th>\n",
       "      <th>fuel</th>\n",
       "      <th>paint</th>\n",
       "      <th>price</th>\n",
       "      <th>year</th>\n",
       "    </tr>\n",
       "  </thead>\n",
       "  <tbody>\n",
       "    <tr>\n",
       "      <th>0</th>\n",
       "      <td>Toyota Corolla</td>\n",
       "      <td>60127</td>\n",
       "      <td>Lagos</td>\n",
       "      <td>Locally used</td>\n",
       "      <td>4-cylinder(I4)</td>\n",
       "      <td>automatic</td>\n",
       "      <td>petrol</td>\n",
       "      <td>Silver</td>\n",
       "      <td>1995000</td>\n",
       "      <td>2009</td>\n",
       "    </tr>\n",
       "  </tbody>\n",
       "</table>\n",
       "</div>"
      ],
      "text/plain": [
       "            title  mileage location        origin          engine  \\\n",
       "0  Toyota Corolla    60127    Lagos  Locally used  4-cylinder(I4)   \n",
       "\n",
       "  transmission    fuel   paint    price  year  \n",
       "0    automatic  petrol  Silver  1995000  2009  "
      ]
     },
     "execution_count": 100,
     "metadata": {},
     "output_type": "execute_result"
    }
   ],
   "source": [
    "car_data[:1] #first row, can be written as car_data[0:1]"
   ]
  },
  {
   "cell_type": "code",
   "execution_count": 101,
   "id": "cb7b42ee",
   "metadata": {},
   "outputs": [
    {
     "data": {
      "text/html": [
       "<div>\n",
       "<style scoped>\n",
       "    .dataframe tbody tr th:only-of-type {\n",
       "        vertical-align: middle;\n",
       "    }\n",
       "\n",
       "    .dataframe tbody tr th {\n",
       "        vertical-align: top;\n",
       "    }\n",
       "\n",
       "    .dataframe thead th {\n",
       "        text-align: right;\n",
       "    }\n",
       "</style>\n",
       "<table border=\"1\" class=\"dataframe\">\n",
       "  <thead>\n",
       "    <tr style=\"text-align: right;\">\n",
       "      <th></th>\n",
       "      <th>title</th>\n",
       "      <th>mileage</th>\n",
       "      <th>location</th>\n",
       "      <th>origin</th>\n",
       "      <th>engine</th>\n",
       "      <th>transmission</th>\n",
       "      <th>fuel</th>\n",
       "      <th>paint</th>\n",
       "      <th>price</th>\n",
       "      <th>year</th>\n",
       "    </tr>\n",
       "  </thead>\n",
       "  <tbody>\n",
       "    <tr>\n",
       "      <th>0</th>\n",
       "      <td>Toyota Corolla</td>\n",
       "      <td>60127</td>\n",
       "      <td>Lagos</td>\n",
       "      <td>Locally used</td>\n",
       "      <td>4-cylinder(I4)</td>\n",
       "      <td>automatic</td>\n",
       "      <td>petrol</td>\n",
       "      <td>Silver</td>\n",
       "      <td>1995000</td>\n",
       "      <td>2009</td>\n",
       "    </tr>\n",
       "    <tr>\n",
       "      <th>1</th>\n",
       "      <td>Acura MDX</td>\n",
       "      <td>132908</td>\n",
       "      <td>Lagos</td>\n",
       "      <td>Foreign Used</td>\n",
       "      <td>6-cylinder(V6)</td>\n",
       "      <td>automatic</td>\n",
       "      <td>petrol</td>\n",
       "      <td>Whine</td>\n",
       "      <td>3315000</td>\n",
       "      <td>2009</td>\n",
       "    </tr>\n",
       "    <tr>\n",
       "      <th>2</th>\n",
       "      <td>Lexus ES 350</td>\n",
       "      <td>120412</td>\n",
       "      <td>Lagos</td>\n",
       "      <td>Locally used</td>\n",
       "      <td>6-cylinder(V6)</td>\n",
       "      <td>automatic</td>\n",
       "      <td>petrol</td>\n",
       "      <td>Silver</td>\n",
       "      <td>2655000</td>\n",
       "      <td>2008</td>\n",
       "    </tr>\n",
       "    <tr>\n",
       "      <th>3</th>\n",
       "      <td>Mercedes-Benz GLK 350</td>\n",
       "      <td>67640</td>\n",
       "      <td>Lagos</td>\n",
       "      <td>Foreign Used</td>\n",
       "      <td>4-cylinder(I4)</td>\n",
       "      <td>automatic</td>\n",
       "      <td>petrol</td>\n",
       "      <td>Black</td>\n",
       "      <td>9015000</td>\n",
       "      <td>2013</td>\n",
       "    </tr>\n",
       "    <tr>\n",
       "      <th>4</th>\n",
       "      <td>Mercedes-Benz E 200</td>\n",
       "      <td>92440</td>\n",
       "      <td>Abuja</td>\n",
       "      <td>Foreign Used</td>\n",
       "      <td>4-cylinder(I4)</td>\n",
       "      <td>automatic</td>\n",
       "      <td>petrol</td>\n",
       "      <td>Black</td>\n",
       "      <td>5790000</td>\n",
       "      <td>2013</td>\n",
       "    </tr>\n",
       "    <tr>\n",
       "      <th>5</th>\n",
       "      <td>Mercedes-Benz E 300</td>\n",
       "      <td>39979</td>\n",
       "      <td>Abuja</td>\n",
       "      <td>Foreign Used</td>\n",
       "      <td>4-cylinder(I4)</td>\n",
       "      <td>automatic</td>\n",
       "      <td>petrol</td>\n",
       "      <td>Brown</td>\n",
       "      <td>19440000</td>\n",
       "      <td>2016</td>\n",
       "    </tr>\n",
       "    <tr>\n",
       "      <th>6</th>\n",
       "      <td>Toyota Corolla</td>\n",
       "      <td>144211</td>\n",
       "      <td>Lagos</td>\n",
       "      <td>Locally used</td>\n",
       "      <td>4-cylinder(I4)</td>\n",
       "      <td>automatic</td>\n",
       "      <td>petrol</td>\n",
       "      <td>Silver</td>\n",
       "      <td>1995000</td>\n",
       "      <td>2008</td>\n",
       "    </tr>\n",
       "    <tr>\n",
       "      <th>7</th>\n",
       "      <td>Toyota Land Cruiser</td>\n",
       "      <td>82828</td>\n",
       "      <td>Lagos</td>\n",
       "      <td>Locally used</td>\n",
       "      <td>8-cylinder(V8)</td>\n",
       "      <td>automatic</td>\n",
       "      <td>petrol</td>\n",
       "      <td>Black</td>\n",
       "      <td>1545000</td>\n",
       "      <td>2000</td>\n",
       "    </tr>\n",
       "    <tr>\n",
       "      <th>8</th>\n",
       "      <td>Ford F 150</td>\n",
       "      <td>77798</td>\n",
       "      <td>Lagos</td>\n",
       "      <td>Foreign Used</td>\n",
       "      <td>8-cylinder(V8)</td>\n",
       "      <td>automatic</td>\n",
       "      <td>petrol</td>\n",
       "      <td>Silver</td>\n",
       "      <td>4715000</td>\n",
       "      <td>2010</td>\n",
       "    </tr>\n",
       "    <tr>\n",
       "      <th>9</th>\n",
       "      <td>Honda Accord</td>\n",
       "      <td>53364</td>\n",
       "      <td>Lagos</td>\n",
       "      <td>Locally used</td>\n",
       "      <td>6-cylinder(V6)</td>\n",
       "      <td>automatic</td>\n",
       "      <td>petrol</td>\n",
       "      <td>Wine</td>\n",
       "      <td>865000</td>\n",
       "      <td>2007</td>\n",
       "    </tr>\n",
       "  </tbody>\n",
       "</table>\n",
       "</div>"
      ],
      "text/plain": [
       "                   title  mileage location        origin          engine  \\\n",
       "0         Toyota Corolla    60127    Lagos  Locally used  4-cylinder(I4)   \n",
       "1              Acura MDX   132908    Lagos  Foreign Used  6-cylinder(V6)   \n",
       "2           Lexus ES 350   120412    Lagos  Locally used  6-cylinder(V6)   \n",
       "3  Mercedes-Benz GLK 350    67640    Lagos  Foreign Used  4-cylinder(I4)   \n",
       "4    Mercedes-Benz E 200    92440    Abuja  Foreign Used  4-cylinder(I4)   \n",
       "5    Mercedes-Benz E 300    39979    Abuja  Foreign Used  4-cylinder(I4)   \n",
       "6         Toyota Corolla   144211    Lagos  Locally used  4-cylinder(I4)   \n",
       "7    Toyota Land Cruiser    82828    Lagos  Locally used  8-cylinder(V8)   \n",
       "8             Ford F 150    77798    Lagos  Foreign Used  8-cylinder(V8)   \n",
       "9           Honda Accord    53364    Lagos  Locally used  6-cylinder(V6)   \n",
       "\n",
       "  transmission    fuel   paint     price  year  \n",
       "0    automatic  petrol  Silver   1995000  2009  \n",
       "1    automatic  petrol  Whine    3315000  2009  \n",
       "2    automatic  petrol  Silver   2655000  2008  \n",
       "3    automatic  petrol   Black   9015000  2013  \n",
       "4    automatic  petrol   Black   5790000  2013  \n",
       "5    automatic  petrol   Brown  19440000  2016  \n",
       "6    automatic  petrol  Silver   1995000  2008  \n",
       "7    automatic  petrol   Black   1545000  2000  \n",
       "8    automatic  petrol  Silver   4715000  2010  \n",
       "9    automatic  petrol    Wine    865000  2007  "
      ]
     },
     "execution_count": 101,
     "metadata": {},
     "output_type": "execute_result"
    }
   ],
   "source": [
    "car_data[:10] #first 10 colums"
   ]
  },
  {
   "cell_type": "code",
   "execution_count": 102,
   "id": "c3f0830f",
   "metadata": {},
   "outputs": [
    {
     "data": {
      "text/html": [
       "<div>\n",
       "<style scoped>\n",
       "    .dataframe tbody tr th:only-of-type {\n",
       "        vertical-align: middle;\n",
       "    }\n",
       "\n",
       "    .dataframe tbody tr th {\n",
       "        vertical-align: top;\n",
       "    }\n",
       "\n",
       "    .dataframe thead th {\n",
       "        text-align: right;\n",
       "    }\n",
       "</style>\n",
       "<table border=\"1\" class=\"dataframe\">\n",
       "  <thead>\n",
       "    <tr style=\"text-align: right;\">\n",
       "      <th></th>\n",
       "      <th>title</th>\n",
       "      <th>mileage</th>\n",
       "      <th>location</th>\n",
       "      <th>origin</th>\n",
       "      <th>engine</th>\n",
       "      <th>transmission</th>\n",
       "      <th>fuel</th>\n",
       "      <th>paint</th>\n",
       "      <th>price</th>\n",
       "      <th>year</th>\n",
       "    </tr>\n",
       "  </thead>\n",
       "  <tbody>\n",
       "    <tr>\n",
       "      <th>1450</th>\n",
       "      <td>Toyota Sienna</td>\n",
       "      <td>134183</td>\n",
       "      <td>Lagos</td>\n",
       "      <td>Foreign Used</td>\n",
       "      <td>6-cylinder(V6)</td>\n",
       "      <td>automatic</td>\n",
       "      <td>petrol</td>\n",
       "      <td>Silver</td>\n",
       "      <td>2655000</td>\n",
       "      <td>2005</td>\n",
       "    </tr>\n",
       "  </tbody>\n",
       "</table>\n",
       "</div>"
      ],
      "text/plain": [
       "              title  mileage location        origin          engine  \\\n",
       "1450  Toyota Sienna   134183    Lagos  Foreign Used  6-cylinder(V6)   \n",
       "\n",
       "     transmission    fuel   paint    price  year  \n",
       "1450    automatic  petrol  Silver  2655000  2005  "
      ]
     },
     "execution_count": 102,
     "metadata": {},
     "output_type": "execute_result"
    }
   ],
   "source": [
    "car_data[-1:] #last row"
   ]
  },
  {
   "cell_type": "code",
   "execution_count": 103,
   "id": "1d2851b3",
   "metadata": {},
   "outputs": [
    {
     "data": {
      "text/html": [
       "<div>\n",
       "<style scoped>\n",
       "    .dataframe tbody tr th:only-of-type {\n",
       "        vertical-align: middle;\n",
       "    }\n",
       "\n",
       "    .dataframe tbody tr th {\n",
       "        vertical-align: top;\n",
       "    }\n",
       "\n",
       "    .dataframe thead th {\n",
       "        text-align: right;\n",
       "    }\n",
       "</style>\n",
       "<table border=\"1\" class=\"dataframe\">\n",
       "  <thead>\n",
       "    <tr style=\"text-align: right;\">\n",
       "      <th></th>\n",
       "      <th>title</th>\n",
       "      <th>mileage</th>\n",
       "      <th>location</th>\n",
       "      <th>origin</th>\n",
       "      <th>engine</th>\n",
       "      <th>transmission</th>\n",
       "      <th>fuel</th>\n",
       "      <th>paint</th>\n",
       "      <th>price</th>\n",
       "      <th>year</th>\n",
       "    </tr>\n",
       "  </thead>\n",
       "  <tbody>\n",
       "    <tr>\n",
       "      <th>1449</th>\n",
       "      <td>Toyota Sienna</td>\n",
       "      <td>82540</td>\n",
       "      <td>Lagos</td>\n",
       "      <td>Foreign Used</td>\n",
       "      <td>6-cylinder(I6)</td>\n",
       "      <td>automatic</td>\n",
       "      <td>petrol</td>\n",
       "      <td>Red</td>\n",
       "      <td>2955000</td>\n",
       "      <td>2007</td>\n",
       "    </tr>\n",
       "  </tbody>\n",
       "</table>\n",
       "</div>"
      ],
      "text/plain": [
       "              title  mileage location        origin          engine  \\\n",
       "1449  Toyota Sienna    82540    Lagos  Foreign Used  6-cylinder(I6)   \n",
       "\n",
       "     transmission    fuel paint    price  year  \n",
       "1449    automatic  petrol   Red  2955000  2007  "
      ]
     },
     "execution_count": 103,
     "metadata": {},
     "output_type": "execute_result"
    }
   ],
   "source": [
    "car_data[-2:-1] #last row"
   ]
  },
  {
   "cell_type": "code",
   "execution_count": 104,
   "id": "deec36df",
   "metadata": {},
   "outputs": [
    {
     "data": {
      "text/html": [
       "<div>\n",
       "<style scoped>\n",
       "    .dataframe tbody tr th:only-of-type {\n",
       "        vertical-align: middle;\n",
       "    }\n",
       "\n",
       "    .dataframe tbody tr th {\n",
       "        vertical-align: top;\n",
       "    }\n",
       "\n",
       "    .dataframe thead th {\n",
       "        text-align: right;\n",
       "    }\n",
       "</style>\n",
       "<table border=\"1\" class=\"dataframe\">\n",
       "  <thead>\n",
       "    <tr style=\"text-align: right;\">\n",
       "      <th></th>\n",
       "      <th>title</th>\n",
       "      <th>mileage</th>\n",
       "      <th>location</th>\n",
       "      <th>origin</th>\n",
       "      <th>engine</th>\n",
       "      <th>transmission</th>\n",
       "      <th>fuel</th>\n",
       "      <th>paint</th>\n",
       "      <th>price</th>\n",
       "      <th>year</th>\n",
       "    </tr>\n",
       "  </thead>\n",
       "  <tbody>\n",
       "    <tr>\n",
       "      <th>1449</th>\n",
       "      <td>Toyota Sienna</td>\n",
       "      <td>82540</td>\n",
       "      <td>Lagos</td>\n",
       "      <td>Foreign Used</td>\n",
       "      <td>6-cylinder(I6)</td>\n",
       "      <td>automatic</td>\n",
       "      <td>petrol</td>\n",
       "      <td>Red</td>\n",
       "      <td>2955000</td>\n",
       "      <td>2007</td>\n",
       "    </tr>\n",
       "    <tr>\n",
       "      <th>1450</th>\n",
       "      <td>Toyota Sienna</td>\n",
       "      <td>134183</td>\n",
       "      <td>Lagos</td>\n",
       "      <td>Foreign Used</td>\n",
       "      <td>6-cylinder(V6)</td>\n",
       "      <td>automatic</td>\n",
       "      <td>petrol</td>\n",
       "      <td>Silver</td>\n",
       "      <td>2655000</td>\n",
       "      <td>2005</td>\n",
       "    </tr>\n",
       "  </tbody>\n",
       "</table>\n",
       "</div>"
      ],
      "text/plain": [
       "              title  mileage location        origin          engine  \\\n",
       "1449  Toyota Sienna    82540    Lagos  Foreign Used  6-cylinder(I6)   \n",
       "1450  Toyota Sienna   134183    Lagos  Foreign Used  6-cylinder(V6)   \n",
       "\n",
       "     transmission    fuel   paint    price  year  \n",
       "1449    automatic  petrol     Red  2955000  2007  \n",
       "1450    automatic  petrol  Silver  2655000  2005  "
      ]
     },
     "execution_count": 104,
     "metadata": {},
     "output_type": "execute_result"
    }
   ],
   "source": [
    "car_data[-2:] #last two rows"
   ]
  },
  {
   "cell_type": "code",
   "execution_count": 105,
   "id": "0f41a56a",
   "metadata": {},
   "outputs": [
    {
     "data": {
      "text/html": [
       "<div>\n",
       "<style scoped>\n",
       "    .dataframe tbody tr th:only-of-type {\n",
       "        vertical-align: middle;\n",
       "    }\n",
       "\n",
       "    .dataframe tbody tr th {\n",
       "        vertical-align: top;\n",
       "    }\n",
       "\n",
       "    .dataframe thead th {\n",
       "        text-align: right;\n",
       "    }\n",
       "</style>\n",
       "<table border=\"1\" class=\"dataframe\">\n",
       "  <thead>\n",
       "    <tr style=\"text-align: right;\">\n",
       "      <th></th>\n",
       "      <th>engine</th>\n",
       "      <th>origin</th>\n",
       "    </tr>\n",
       "  </thead>\n",
       "  <tbody>\n",
       "    <tr>\n",
       "      <th>2</th>\n",
       "      <td>6-cylinder(V6)</td>\n",
       "      <td>Locally used</td>\n",
       "    </tr>\n",
       "    <tr>\n",
       "      <th>3</th>\n",
       "      <td>4-cylinder(I4)</td>\n",
       "      <td>Foreign Used</td>\n",
       "    </tr>\n",
       "    <tr>\n",
       "      <th>4</th>\n",
       "      <td>4-cylinder(I4)</td>\n",
       "      <td>Foreign Used</td>\n",
       "    </tr>\n",
       "    <tr>\n",
       "      <th>5</th>\n",
       "      <td>4-cylinder(I4)</td>\n",
       "      <td>Foreign Used</td>\n",
       "    </tr>\n",
       "    <tr>\n",
       "      <th>6</th>\n",
       "      <td>4-cylinder(I4)</td>\n",
       "      <td>Locally used</td>\n",
       "    </tr>\n",
       "  </tbody>\n",
       "</table>\n",
       "</div>"
      ],
      "text/plain": [
       "           engine        origin\n",
       "2  6-cylinder(V6)  Locally used\n",
       "3  4-cylinder(I4)  Foreign Used\n",
       "4  4-cylinder(I4)  Foreign Used\n",
       "5  4-cylinder(I4)  Foreign Used\n",
       "6  4-cylinder(I4)  Locally used"
      ]
     },
     "execution_count": 105,
     "metadata": {},
     "output_type": "execute_result"
    }
   ],
   "source": [
    "car_data[2:7][['engine', 'origin' ]] #this command selects the engine and origin of of cars on rows 2 to 6"
   ]
  },
  {
   "cell_type": "markdown",
   "id": "38c442d9",
   "metadata": {},
   "source": [
    "# DATA VISUALIZATION"
   ]
  },
  {
   "cell_type": "code",
   "execution_count": 106,
   "id": "b17c66e9",
   "metadata": {},
   "outputs": [
    {
     "data": {
      "text/html": [
       "<div>\n",
       "<style scoped>\n",
       "    .dataframe tbody tr th:only-of-type {\n",
       "        vertical-align: middle;\n",
       "    }\n",
       "\n",
       "    .dataframe tbody tr th {\n",
       "        vertical-align: top;\n",
       "    }\n",
       "\n",
       "    .dataframe thead th {\n",
       "        text-align: right;\n",
       "    }\n",
       "</style>\n",
       "<table border=\"1\" class=\"dataframe\">\n",
       "  <thead>\n",
       "    <tr style=\"text-align: right;\">\n",
       "      <th></th>\n",
       "      <th>mileage</th>\n",
       "      <th>price</th>\n",
       "      <th>year</th>\n",
       "    </tr>\n",
       "  </thead>\n",
       "  <tbody>\n",
       "    <tr>\n",
       "      <th>count</th>\n",
       "      <td>1.451000e+03</td>\n",
       "      <td>1.451000e+03</td>\n",
       "      <td>1451.000000</td>\n",
       "    </tr>\n",
       "    <tr>\n",
       "      <th>mean</th>\n",
       "      <td>1.168021e+05</td>\n",
       "      <td>8.431088e+06</td>\n",
       "      <td>2008.594073</td>\n",
       "    </tr>\n",
       "    <tr>\n",
       "      <th>std</th>\n",
       "      <td>1.158419e+05</td>\n",
       "      <td>1.308960e+07</td>\n",
       "      <td>39.204292</td>\n",
       "    </tr>\n",
       "    <tr>\n",
       "      <th>min</th>\n",
       "      <td>0.000000e+00</td>\n",
       "      <td>4.000000e+05</td>\n",
       "      <td>1217.000000</td>\n",
       "    </tr>\n",
       "    <tr>\n",
       "      <th>25%</th>\n",
       "      <td>5.333800e+04</td>\n",
       "      <td>2.615000e+06</td>\n",
       "      <td>2006.000000</td>\n",
       "    </tr>\n",
       "    <tr>\n",
       "      <th>50%</th>\n",
       "      <td>9.291900e+04</td>\n",
       "      <td>4.215000e+06</td>\n",
       "      <td>2010.000000</td>\n",
       "    </tr>\n",
       "    <tr>\n",
       "      <th>75%</th>\n",
       "      <td>1.527695e+05</td>\n",
       "      <td>8.865000e+06</td>\n",
       "      <td>2014.000000</td>\n",
       "    </tr>\n",
       "    <tr>\n",
       "      <th>max</th>\n",
       "      <td>1.775588e+06</td>\n",
       "      <td>1.670150e+08</td>\n",
       "      <td>2626.000000</td>\n",
       "    </tr>\n",
       "  </tbody>\n",
       "</table>\n",
       "</div>"
      ],
      "text/plain": [
       "            mileage         price         year\n",
       "count  1.451000e+03  1.451000e+03  1451.000000\n",
       "mean   1.168021e+05  8.431088e+06  2008.594073\n",
       "std    1.158419e+05  1.308960e+07    39.204292\n",
       "min    0.000000e+00  4.000000e+05  1217.000000\n",
       "25%    5.333800e+04  2.615000e+06  2006.000000\n",
       "50%    9.291900e+04  4.215000e+06  2010.000000\n",
       "75%    1.527695e+05  8.865000e+06  2014.000000\n",
       "max    1.775588e+06  1.670150e+08  2626.000000"
      ]
     },
     "execution_count": 106,
     "metadata": {},
     "output_type": "execute_result"
    }
   ],
   "source": [
    "car_data.describe() #this is a statistical summary of the above data"
   ]
  },
  {
   "cell_type": "code",
   "execution_count": 107,
   "id": "fe1eaf6d",
   "metadata": {},
   "outputs": [
    {
     "data": {
      "text/plain": [
       "<AxesSubplot:title={'center':'PRICE PER YEAR'}, xlabel='year', ylabel='price'>"
      ]
     },
     "execution_count": 107,
     "metadata": {},
     "output_type": "execute_result"
    },
    {
     "data": {
      "image/png": "[encoded data removed]",
      "text/plain": [
       "<Figure size 1440x720 with 1 Axes>"
      ]
     },
     "metadata": {
      "needs_background": "light"
     },
     "output_type": "display_data"
    }
   ],
   "source": [
    "plt.figure(figsize = (20,10))\n",
    "car_data.groupby(['price', 'year']).size().plot(color=['green', 'red','blue', 'black'], title= ('PRICE PER YEAR'),\n",
    "                                                xlabel='year', ylabel='price')"
   ]
  },
  {
   "cell_type": "code",
   "execution_count": 108,
   "id": "cffcdc0a",
   "metadata": {},
   "outputs": [
    {
     "data": {
      "text/plain": [
       "<AxesSubplot:ylabel='YEAR'>"
      ]
     },
     "execution_count": 108,
     "metadata": {},
     "output_type": "execute_result"
    },
    {
     "data": {
      "image/png": "[encoded data removed]",
      "text/plain": [
       "<Figure size 1080x504 with 1 Axes>"
      ]
     },
     "metadata": {
      "needs_background": "light"
     },
     "output_type": "display_data"
    }
   ],
   "source": [
    "plt.figure(figsize = (15,7))\n",
    "car_data.groupby('year').size().plot.barh(color=['green', 'red','blue', 'black', 'purple'], ylabel='ENGINE', xlabel='YEAR')"
   ]
  },
  {
   "cell_type": "code",
   "execution_count": 109,
   "id": "b1a85f08",
   "metadata": {},
   "outputs": [
    {
     "data": {
      "text/plain": [
       "<AxesSubplot:xlabel='price', ylabel='count'>"
      ]
     },
     "execution_count": 109,
     "metadata": {},
     "output_type": "execute_result"
    },
    {
     "data": {
      "image/png": "[encoded data removed]",
      "text/plain": [
       "<Figure size 576x288 with 1 Axes>"
      ]
     },
     "metadata": {
      "needs_background": "light"
     },
     "output_type": "display_data"
    }
   ],
   "source": [
    "plt.figure(figsize = (8,4))\n",
    "sns.countplot(x = 'price' , data = car_data)"
   ]
  },
  {
   "cell_type": "code",
   "execution_count": 110,
   "id": "bca60c05",
   "metadata": {},
   "outputs": [
    {
     "data": {
      "text/plain": [
       "<AxesSubplot:xlabel='year', ylabel='count'>"
      ]
     },
     "execution_count": 110,
     "metadata": {},
     "output_type": "execute_result"
    },
    {
     "data": {
      "image/png": "[encoded data removed]",
      "text/plain": [
       "<Figure size 1296x648 with 1 Axes>"
      ]
     },
     "metadata": {
      "needs_background": "light"
     },
     "output_type": "display_data"
    }
   ],
   "source": [
    "plt.figure(figsize = (18,9))\n",
    "sns.countplot(x = 'year' , data = car_data)"
   ]
  },
  {
   "cell_type": "code",
   "execution_count": 140,
   "id": "5664505c",
   "metadata": {},
   "outputs": [
    {
     "data": {
      "text/plain": [
       "<AxesSubplot:xlabel='mileage'>"
      ]
     },
     "execution_count": 140,
     "metadata": {},
     "output_type": "execute_result"
    },
    {
     "data": {
      "image/png": "[encoded data removed]",
      "text/plain": [
       "<Figure size 360x216 with 1 Axes>"
      ]
     },
     "metadata": {
      "needs_background": "light"
     },
     "output_type": "display_data"
    }
   ],
   "source": [
    "plt.figure(figsize = (5,3))\n",
    "sns.violinplot(x = 'mileage' , data = car_data)"
   ]
  },
  {
   "cell_type": "code",
   "execution_count": 112,
   "id": "ff3c28b4",
   "metadata": {},
   "outputs": [
    {
     "data": {
      "text/plain": [
       "<AxesSubplot:title={'center':'ENGINE PER YEAR'}, xlabel='year', ylabel='engine'>"
      ]
     },
     "execution_count": 112,
     "metadata": {},
     "output_type": "execute_result"
    },
    {
     "data": {
      "image/png": "[encoded data removed]",
      "text/plain": [
       "<Figure size 1080x360 with 1 Axes>"
      ]
     },
     "metadata": {
      "needs_background": "light"
     },
     "output_type": "display_data"
    }
   ],
   "source": [
    "plt.figure(figsize = (15,5))\n",
    "car_data.groupby(['year','engine']).size().plot(color='pink', title= ('ENGINE PER YEAR'),\n",
    "                                                xlabel='year', ylabel='engine')"
   ]
  },
  {
   "cell_type": "code",
   "execution_count": 149,
   "id": "abfd9ee9",
   "metadata": {},
   "outputs": [
    {
     "data": {
      "text/plain": [
       "<AxesSubplot:ylabel='None'>"
      ]
     },
     "execution_count": 149,
     "metadata": {},
     "output_type": "execute_result"
    },
    {
     "data": {
      "image/png": "[encoded data removed]",
      "text/plain": [
       "<Figure size 360x360 with 1 Axes>"
      ]
     },
     "metadata": {},
     "output_type": "display_data"
    }
   ],
   "source": [
    "plt.figure(figsize = (5,5))\n",
    "car_data.groupby('location').size().plot.pie()"
   ]
  },
  {
   "cell_type": "code",
   "execution_count": null,
   "id": "147efb4b",
   "metadata": {},
   "outputs": [],
   "source": []
  }
 ],
 "metadata": {
  "kernelspec": {
   "display_name": "Python 3 (ipykernel)",
   "language": "python",
   "name": "python3"
  },
  "language_info": {
   "codemirror_mode": {
    "name": "ipython",
    "version": 3
   },
   "file_extension": ".py",
   "mimetype": "text/x-python",
   "name": "python",
   "nbconvert_exporter": "python",
   "pygments_lexer": "ipython3",
   "version": "3.9.12"
  }
 },
 "nbformat": 4,
 "nbformat_minor": 5
}
